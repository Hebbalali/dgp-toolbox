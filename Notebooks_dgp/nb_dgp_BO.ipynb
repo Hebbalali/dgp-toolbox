{
 "cells": [
  {
   "cell_type": "markdown",
   "metadata": {},
   "source": [
    "# Bayesian optimization using Deep Gaussian processes"
   ]
  },
  {
   "cell_type": "code",
   "execution_count": 1,
   "metadata": {},
   "outputs": [],
   "source": [
    "import numpy as np\n",
    "import tensorflow_probability as tfp\n",
    "import tensorflow as tf\n",
    "import math\n",
    "import time\n",
    "import pyDOE\n",
    "import scipy\n",
    "from dgp_dace.Infill_criteria import *\n",
    "import gpflow\n",
    "from gpflow.base import Module, Parameter\n",
    "from dgp_dace.models.dgp import DGP\n",
    "from dgp_dace.BO.SO_BO import SO_BO\n",
    "import matplotlib.pyplot as plt"
   ]
  },
  {
   "cell_type": "markdown",
   "metadata": {},
   "source": [
    "First the problem has to be defined. For that the problems are defined as a python class.\n",
    "This class has to specify if the problem is constrained, its input dimension and the evaluation. "
   ]
  },
  {
   "cell_type": "markdown",
   "metadata": {},
   "source": [
    "## Unconstrained case"
   ]
  },
  {
   "cell_type": "code",
   "execution_count": 2,
   "metadata": {},
   "outputs": [],
   "source": [
    "def f_step(x):\n",
    "    return np.where(x>0.25,1.,0.)"
   ]
  },
  {
   "cell_type": "code",
   "execution_count": 3,
   "metadata": {},
   "outputs": [],
   "source": [
    "class Constrained_problem(object):\n",
    "    def __init__(self):\n",
    "        self.constraint = True\n",
    "        self.dim = 1\n",
    "    def fun(self,x):\n",
    "        return [(x-0.5)**2,f_step(x)]\n",
    "    "
   ]
  },
  {
   "cell_type": "code",
   "execution_count": 4,
   "metadata": {},
   "outputs": [],
   "source": [
    "problem =  Constrained_problem()"
   ]
  },
  {
   "cell_type": "code",
   "execution_count": 5,
   "metadata": {},
   "outputs": [],
   "source": [
    "Ns = 300\n",
    "Xs = np.linspace(0., 1., Ns)[:, None]\n",
    "Ys = problem.fun(Xs)[0]\n",
    "Cs =  problem.fun(Xs)[1]"
   ]
  },
  {
   "cell_type": "code",
   "execution_count": 6,
   "metadata": {},
   "outputs": [
    {
     "data": {
      "text/plain": [
       "<matplotlib.legend.Legend at 0x7f3f804153c8>"
      ]
     },
     "execution_count": 6,
     "metadata": {},
     "output_type": "execute_result"
    },
    {
     "data": {
      "image/png": "[encoded data removed]",
      "text/plain": [
       "<Figure size 432x288 with 1 Axes>"
      ]
     },
     "metadata": {
      "needs_background": "light"
     },
     "output_type": "display_data"
    }
   ],
   "source": [
    "plt.figure()\n",
    "plt.plot(Xs,Ys,label='Objective function')\n",
    "plt.plot(Xs,Cs,label='Constraint function')\n",
    "plt.legend()"
   ]
  },
  {
   "cell_type": "markdown",
   "metadata": {},
   "source": [
    "SO_BO is a Module class for single objective Unconstrained/constrained Bayesian Optimization using Gaussian processes and deep Gaussian \n",
    "processes. \n",
    "The following optimization problem is considered:\n",
    "$$        \n",
    "\\min \\mbox{     }    f(x)\\\\\n",
    "\\text{s.t.} \\mbox{     }   x \\in [0,1]^d\\\\\n",
    " \\mbox{               }        g_i(x) \\leq 0 \\mbox{     } \\forall i \\in1,\\ldots,n_c\\\\\n",
    "    $$"
   ]
  },
  {
   "cell_type": "markdown",
   "metadata": {},
   "source": [
    "\n",
    "A dictionary which defines the architecture of the objective function model.\n",
    "\n",
    "It has the following form:\n",
    "\n",
    "\n",
    "        {'layers':l, 'num_units':[q_1,q_2,\\ldots,q_l],kernels:['rbf','matern32','matern52',...],'num_samples':S}\n",
    " "
   ]
  },
  {
   "cell_type": "code",
   "execution_count": 7,
   "metadata": {},
   "outputs": [],
   "source": [
    "model_C_dic = {'num_layers':2,'num_units':1,'kernels':'rbf','num_samples':10}"
   ]
  },
  {
   "cell_type": "markdown",
   "metadata": {},
   "source": [
    "In this case the different layers will have the same kernel and the same number of units. If we want the layers to be defined differently the kernels have to be given as a list of string and num_units as a list of integer:"
   ]
  },
  {
   "cell_type": "code",
   "execution_count": 8,
   "metadata": {},
   "outputs": [],
   "source": [
    "model_C_dic = {'num_layers':2,'num_units':[2,1],'kernels':['rbf','matern32','matern52'],'num_samples':10}"
   ]
  },
  {
   "cell_type": "code",
   "execution_count": 9,
   "metadata": {},
   "outputs": [],
   "source": [
    "model_C_dic = {'num_layers':2,'num_units':1,'kernels':'rbf','num_samples':10}"
   ]
  },
  {
   "cell_type": "code",
   "execution_count": 10,
   "metadata": {},
   "outputs": [],
   "source": [
    "model_Y_dic = {'num_layers':0,'kernels':'rbf'}"
   ]
  },
  {
   "cell_type": "markdown",
   "metadata": {},
   "source": [
    "In the case of available X,Y it can be given as arguments for the SO_BO class. Otherwise, the DoE_size is given and the X,Y are generated in the initialization of the SO_BO class."
   ]
  },
  {
   "cell_type": "code",
   "execution_count": 61,
   "metadata": {},
   "outputs": [],
   "source": [
    "SO_BO?"
   ]
  },
  {
   "cell_type": "code",
   "execution_count": 13,
   "metadata": {},
   "outputs": [
    {
     "name": "stdout",
     "output_type": "stream",
     "text": [
      "The DGP architecture\n",
      "layer 1 : dim_in 1 --> dim_out 1\n",
      "layer 2 : dim_in 1 --> dim_out 1\n"
     ]
    }
   ],
   "source": [
    "BO = SO_BO(problem,DoE_size=5,model_Y_dic=model_Y_dic,model_C_dic=model_C_dic,normalize_input=True)\n"
   ]
  },
  {
   "cell_type": "code",
   "execution_count": null,
   "metadata": {},
   "outputs": [],
   "source": []
  },
  {
   "cell_type": "code",
   "execution_count": 63,
   "metadata": {},
   "outputs": [
    {
     "data": {
      "text/html": [
       "<table>\n",
       "<thead>\n",
       "<tr><th>name                                           </th><th>class    </th><th>transform       </th><th>prior  </th><th>trainable  </th><th>shape    </th><th>dtype  </th><th>value                  </th></tr>\n",
       "</thead>\n",
       "<tbody>\n",
       "<tr><td>SO_BO.model_Y.kernel.variance                  </td><td>Parameter</td><td>Softplus        </td><td>       </td><td>True       </td><td>()       </td><td>float64</td><td>1.0                    </td></tr>\n",
       "<tr><td>SO_BO.model_Y.kernel.lengthscales              </td><td>Parameter</td><td>Softplus        </td><td>       </td><td>True       </td><td>(1,)     </td><td>float64</td><td>[1.]                   </td></tr>\n",
       "<tr><td>SO_BO.model_Y.likelihood.variance              </td><td>Parameter</td><td>Softplus + Shift</td><td>       </td><td>True       </td><td>()       </td><td>float64</td><td>1.0000000000000004e-05 </td></tr>\n",
       "<tr><td>SO_BO.model_C[0].likelihood.likelihood.variance</td><td>Parameter</td><td>Softplus + Shift</td><td>       </td><td>True       </td><td>()       </td><td>float64</td><td>1.0                    </td></tr>\n",
       "<tr><td>SO_BO.model_C[0].layers[0].q_mu                </td><td>Parameter</td><td>Identity        </td><td>       </td><td>True       </td><td>(5, 1)   </td><td>float64</td><td>[[0....                </td></tr>\n",
       "<tr><td>SO_BO.model_C[0].layers[0].q_sqrt              </td><td>Parameter</td><td>FillTriangular  </td><td>       </td><td>True       </td><td>(1, 5, 5)</td><td>float64</td><td>[[[1.0000005, 0., 0....</td></tr>\n",
       "<tr><td>SO_BO.model_C[0].layers[0].feature.Z           </td><td>Parameter</td><td>Identity        </td><td>       </td><td>True       </td><td>(5, 1)   </td><td>float64</td><td>[[-0.24493691...       </td></tr>\n",
       "<tr><td>SO_BO.model_C[0].layers[0].kern.variance       </td><td>Parameter</td><td>Softplus        </td><td>       </td><td>True       </td><td>()       </td><td>float64</td><td>1.0                    </td></tr>\n",
       "<tr><td>SO_BO.model_C[0].layers[0].kern.lengthscales   </td><td>Parameter</td><td>Softplus        </td><td>       </td><td>True       </td><td>(1,)     </td><td>float64</td><td>[1.]                   </td></tr>\n",
       "<tr><td>SO_BO.model_C[0].layers[1].q_mu                </td><td>Parameter</td><td>Identity        </td><td>       </td><td>True       </td><td>(5, 1)   </td><td>float64</td><td>[[0....                </td></tr>\n",
       "<tr><td>SO_BO.model_C[0].layers[1].q_sqrt              </td><td>Parameter</td><td>FillTriangular  </td><td>       </td><td>True       </td><td>(1, 5, 5)</td><td>float64</td><td>[[[1.0000005, 0., 0....</td></tr>\n",
       "<tr><td>SO_BO.model_C[0].layers[1].feature.Z           </td><td>Parameter</td><td>Identity        </td><td>       </td><td>True       </td><td>(5, 1)   </td><td>float64</td><td>[[-0.24493691...       </td></tr>\n",
       "<tr><td>SO_BO.model_C[0].layers[1].kern.variance       </td><td>Parameter</td><td>Softplus        </td><td>       </td><td>True       </td><td>()       </td><td>float64</td><td>1.0                    </td></tr>\n",
       "<tr><td>SO_BO.model_C[0].layers[1].kern.lengthscales   </td><td>Parameter</td><td>Softplus        </td><td>       </td><td>True       </td><td>(1,)     </td><td>float64</td><td>[1.]                   </td></tr>\n",
       "<tr><td>SO_BO.model_C[0].layers[2].q_mu                </td><td>Parameter</td><td>Identity        </td><td>       </td><td>True       </td><td>(5, 1)   </td><td>float64</td><td>[[0....                </td></tr>\n",
       "<tr><td>SO_BO.model_C[0].layers[2].q_sqrt              </td><td>Parameter</td><td>FillTriangular  </td><td>       </td><td>True       </td><td>(1, 5, 5)</td><td>float64</td><td>[[[1.0000005, 0., 0....</td></tr>\n",
       "<tr><td>SO_BO.model_C[0].layers[2].feature.Z           </td><td>Parameter</td><td>Identity        </td><td>       </td><td>True       </td><td>(5, 1)   </td><td>float64</td><td>[[-0.24493691...       </td></tr>\n",
       "<tr><td>SO_BO.model_C[0].layers[2].kern.variance       </td><td>Parameter</td><td>Softplus        </td><td>       </td><td>True       </td><td>()       </td><td>float64</td><td>1.0                    </td></tr>\n",
       "<tr><td>SO_BO.model_C[0].layers[2].kern.lengthscales   </td><td>Parameter</td><td>Softplus        </td><td>       </td><td>True       </td><td>(1,)     </td><td>float64</td><td>[1.]                   </td></tr>\n",
       "</tbody>\n",
       "</table>"
      ],
      "text/plain": [
       "<IPython.core.display.HTML object>"
      ]
     },
     "metadata": {},
     "output_type": "display_data"
    }
   ],
   "source": [
    "from gpflow.utilities import print_summary\n",
    "print_summary(BO,fmt='notebook')"
   ]
  },
  {
   "cell_type": "markdown",
   "metadata": {},
   "source": [
    "### Feasible solutions"
   ]
  },
  {
   "cell_type": "code",
   "execution_count": 64,
   "metadata": {},
   "outputs": [
    {
     "data": {
      "text/plain": [
       "array([0.0834044])"
      ]
     },
     "execution_count": 64,
     "metadata": {},
     "output_type": "execute_result"
    }
   ],
   "source": [
    "BO.Xfeasible"
   ]
  },
  {
   "cell_type": "code",
   "execution_count": 65,
   "metadata": {},
   "outputs": [
    {
     "data": {
      "text/plain": [
       "array([0.17355189])"
      ]
     },
     "execution_count": 65,
     "metadata": {},
     "output_type": "execute_result"
    }
   ],
   "source": [
    "BO.Yfeasible"
   ]
  },
  {
   "cell_type": "markdown",
   "metadata": {},
   "source": [
    "### Handling of the models within the SO_BO class"
   ]
  },
  {
   "cell_type": "markdown",
   "metadata": {},
   "source": [
    "To use an existing model for the objective function"
   ]
  },
  {
   "cell_type": "code",
   "execution_count": 66,
   "metadata": {},
   "outputs": [],
   "source": [
    "kernel = gpflow.kernels.SquaredExponential(lengthscales=[1.0]*BO.X_train.shape[1],variance=1.0) \n",
    "model = gpflow.models.GPR((BO.X_train, BO.Y_train), kernel, noise_variance=1e-5)\n"
   ]
  },
  {
   "cell_type": "code",
   "execution_count": 67,
   "metadata": {},
   "outputs": [],
   "source": [
    "BO.model_Y = model"
   ]
  },
  {
   "cell_type": "code",
   "execution_count": 68,
   "metadata": {},
   "outputs": [
    {
     "data": {
      "text/html": [
       "&lt;gpflow.models.gpr.GPR object at 0x7fd18c3d9ef0&gt;\n",
       "<table>\n",
       "<thead>\n",
       "<tr><th>name                   </th><th>class    </th><th>transform       </th><th>prior  </th><th>trainable  </th><th>shape  </th><th>dtype  </th><th>value                 </th></tr>\n",
       "</thead>\n",
       "<tbody>\n",
       "<tr><td>GPR.kernel.variance    </td><td>Parameter</td><td>Softplus        </td><td>       </td><td>True       </td><td>()     </td><td>float64</td><td>1.0                   </td></tr>\n",
       "<tr><td>GPR.kernel.lengthscales</td><td>Parameter</td><td>Softplus        </td><td>       </td><td>True       </td><td>(1,)   </td><td>float64</td><td>[1.]                  </td></tr>\n",
       "<tr><td>GPR.likelihood.variance</td><td>Parameter</td><td>Softplus + Shift</td><td>       </td><td>True       </td><td>()     </td><td>float64</td><td>1.0000000000000004e-05</td></tr>\n",
       "</tbody>\n",
       "</table>"
      ],
      "text/plain": [
       "<gpflow.models.gpr.GPR object at 0x7fd18c3d9ef0>\n",
       "╒═════════════════════════╤═══════════╤══════════════════╤═════════╤═════════════╤═════════╤═════════╤════════════════════════╕\n",
       "│ name                    │ class     │ transform        │ prior   │ trainable   │ shape   │ dtype   │ value                  │\n",
       "╞═════════════════════════╪═══════════╪══════════════════╪═════════╪═════════════╪═════════╪═════════╪════════════════════════╡\n",
       "│ GPR.kernel.variance     │ Parameter │ Softplus         │         │ True        │ ()      │ float64 │ 1.0                    │\n",
       "├─────────────────────────┼───────────┼──────────────────┼─────────┼─────────────┼─────────┼─────────┼────────────────────────┤\n",
       "│ GPR.kernel.lengthscales │ Parameter │ Softplus         │         │ True        │ (1,)    │ float64 │ [1.]                   │\n",
       "├─────────────────────────┼───────────┼──────────────────┼─────────┼─────────────┼─────────┼─────────┼────────────────────────┤\n",
       "│ GPR.likelihood.variance │ Parameter │ Softplus + Shift │         │ True        │ ()      │ float64 │ 1.0000000000000004e-05 │\n",
       "╘═════════════════════════╧═══════════╧══════════════════╧═════════╧═════════════╧═════════╧═════════╧════════════════════════╛"
      ]
     },
     "execution_count": 68,
     "metadata": {},
     "output_type": "execute_result"
    }
   ],
   "source": [
    "BO.model_Y"
   ]
  },
  {
   "cell_type": "markdown",
   "metadata": {},
   "source": [
    "To train the different models within the BO class."
   ]
  },
  {
   "cell_type": "code",
   "execution_count": 33,
   "metadata": {},
   "outputs": [
    {
     "name": "stdout",
     "output_type": "stream",
     "text": [
      "Training of the objective function model\n",
      "Training of constraint model 1\n",
      "ELBO: -73.6722504558447\n",
      "ELBO: -40.077754388823664\n",
      "ELBO: -36.954704944563375\n",
      "ELBO: -30.261831366775674\n",
      "ELBO: -25.24874356636096\n",
      "ELBO: -24.257270575123755\n",
      "ELBO: -19.260551011574375\n",
      "ELBO: -15.434903259765536\n",
      "ELBO: -12.238962616139355\n",
      "ELBO: -9.487753103811297\n",
      "ELBO: -7.649473460041234\n",
      "ELBO: -7.1675836827709904\n",
      "ELBO: -7.0369813742413445\n",
      "ELBO: -6.988259736356377\n",
      "ELBO: -6.970094851980103\n",
      "ELBO: -6.950827874353353\n",
      "ELBO: -6.920997679636944\n",
      "ELBO: -6.882030085583347\n",
      "ELBO: -6.834641777578899\n",
      "ELBO: -6.769723514374765\n",
      "ELBO: -6.724198240540412\n",
      "ELBO: -6.6658946241687556\n",
      "ELBO: -6.6057991675044345\n",
      "ELBO: -6.572771059572202\n",
      "ELBO: -6.5357604774463915\n",
      "ELBO: -6.502703875049761\n",
      "ELBO: -6.455007465227242\n",
      "ELBO: -6.457518841824695\n",
      "ELBO: -6.411861142049227\n",
      "ELBO: -6.420359098895663\n"
     ]
    }
   ],
   "source": [
    "BO.train_models(iteration_Y=2500,iteration_C=2500)"
   ]
  },
  {
   "cell_type": "markdown",
   "metadata": {},
   "source": [
    "### Infill criteria"
   ]
  },
  {
   "cell_type": "markdown",
   "metadata": {},
   "source": [
    "The different infill criteria are implemented in \"dgp_dace.Infill_criteria\".\n",
    "To define an unconstrained infill criterion, two arguments have to be given: y_min and the input dimension."
   ]
  },
  {
   "cell_type": "code",
   "execution_count": 12,
   "metadata": {},
   "outputs": [
    {
     "data": {
      "text/plain": [
       "0.17355189315573133"
      ]
     },
     "execution_count": 12,
     "metadata": {},
     "output_type": "execute_result"
    }
   ],
   "source": [
    "BO.Ymin[-1]"
   ]
  },
  {
   "cell_type": "markdown",
   "metadata": {},
   "source": [
    "Since the data used to train the model is normalized, Ymin has to be normalized before using it for the IC."
   ]
  },
  {
   "cell_type": "code",
   "execution_count": 69,
   "metadata": {},
   "outputs": [],
   "source": [
    "IC = EI((BO.Ymin[-1]-BO.Y.mean(axis=0))/BO.Y.std(axis=0),BO.d) "
   ]
  },
  {
   "cell_type": "markdown",
   "metadata": {},
   "source": [
    "To evaluate the value of infill criterion we have to specify the model to use, the location x, how to evaluate the IC (analytic or using smapling)n and the number of samples."
   ]
  },
  {
   "cell_type": "code",
   "execution_count": 70,
   "metadata": {},
   "outputs": [
    {
     "data": {
      "text/plain": [
       "<tf.Tensor: shape=(1, 1), dtype=float64, numpy=array([[-2.62692319]])>"
      ]
     },
     "execution_count": 70,
     "metadata": {},
     "output_type": "execute_result"
    }
   ],
   "source": [
    "x= np.array([[0.5]])\n",
    "IC.run(BO.model_Y,x,analytic=True)"
   ]
  },
  {
   "cell_type": "code",
   "execution_count": 71,
   "metadata": {},
   "outputs": [
    {
     "data": {
      "text/plain": [
       "<tf.Tensor: shape=(5, 1), dtype=float64, numpy=\n",
       "array([[-2.59701535e+00],\n",
       "       [-2.34648074e+00],\n",
       "       [-1.03330309e+00],\n",
       "       [-2.36903727e+00],\n",
       "       [-1.81666276e-03]])>"
      ]
     },
     "execution_count": 71,
     "metadata": {},
     "output_type": "execute_result"
    }
   ],
   "source": [
    "IC.run(BO.model_Y,BO.X_n,analytic=False,num_samples=1000)"
   ]
  },
  {
   "cell_type": "markdown",
   "metadata": {},
   "source": [
    "To optimize the IC the bounds have on which the optimization is done have to be specified, the method of optimization (Differential evolution or using Adam or DE+Adam) and their specific parameters."
   ]
  },
  {
   "cell_type": "code",
   "execution_count": 72,
   "metadata": {},
   "outputs": [
    {
     "data": {
      "text/plain": [
       "array([[0.15314149]])"
      ]
     },
     "execution_count": 72,
     "metadata": {},
     "output_type": "execute_result"
    }
   ],
   "source": [
    "bounds = (BO.lw_n,BO.up_n)\n",
    "IC.optimize(BO.model_Y,bounds,popsize_DE=300,popstd_DE = 1.5,iterations_DE=400, init_adam=None,iterations_adam=1000,method='DE+Adam',analytic=True)"
   ]
  },
  {
   "cell_type": "code",
   "execution_count": 17,
   "metadata": {},
   "outputs": [
    {
     "name": "stdout",
     "output_type": "stream",
     "text": [
      "[[0.15314149]]\n"
     ]
    }
   ],
   "source": [
    "print(IC.x_opt) # The location of the IC optimum"
   ]
  },
  {
   "cell_type": "markdown",
   "metadata": {},
   "source": [
    "This is the normalized value. To get the orginal value we have to denormalize the location:"
   ]
  },
  {
   "cell_type": "code",
   "execution_count": 18,
   "metadata": {},
   "outputs": [
    {
     "name": "stdout",
     "output_type": "stream",
     "text": [
      "[[0.50312589]]\n"
     ]
    }
   ],
   "source": [
    "print(IC.x_opt*BO.X.std(axis=0)+BO.X.mean(axis=0))"
   ]
  },
  {
   "cell_type": "code",
   "execution_count": 19,
   "metadata": {},
   "outputs": [
    {
     "name": "stdout",
     "output_type": "stream",
     "text": [
      "[[2.75201845]]\n"
     ]
    }
   ],
   "source": [
    "print(-IC.IC_optimized) # The value of the IC"
   ]
  },
  {
   "cell_type": "markdown",
   "metadata": {},
   "source": [
    "### Constrained IC"
   ]
  },
  {
   "cell_type": "markdown",
   "metadata": {},
   "source": [
    "To define a constrained infill criterion such as the Expected violation we have to specify the array for which the different constraints are considered feasible. In SO_BO a constraint is considered feasible if it is inferior to zero. Thus, this array comes back to a zero array with a length equal to the number of constraint. However, since the constraint data are normalized, the array is not equal to zero anymore. To obtain the 'normalized zeros array' we do the following:"
   ]
  },
  {
   "cell_type": "code",
   "execution_count": 74,
   "metadata": {},
   "outputs": [
    {
     "data": {
      "text/plain": [
       "array([-2.])"
      ]
     },
     "execution_count": 74,
     "metadata": {},
     "output_type": "execute_result"
    }
   ],
   "source": [
    "BO.feasible_0"
   ]
  },
  {
   "cell_type": "markdown",
   "metadata": {},
   "source": [
    "Hence, to define the EV: "
   ]
  },
  {
   "cell_type": "code",
   "execution_count": 75,
   "metadata": {},
   "outputs": [],
   "source": [
    "IC_EV = EV(BO.feasible_0,BO.d)"
   ]
  },
  {
   "cell_type": "markdown",
   "metadata": {},
   "source": [
    "To evaluate the value of infill criterion we have to specify the model to use, the location x, how to evaluate the IC (analytic or using smapling)n and the number of samples."
   ]
  },
  {
   "cell_type": "code",
   "execution_count": 76,
   "metadata": {},
   "outputs": [
    {
     "data": {
      "text/plain": [
       "<tf.Tensor: shape=(1, 1), dtype=float64, numpy=array([[2.05025454]])>"
      ]
     },
     "execution_count": 76,
     "metadata": {},
     "output_type": "execute_result"
    }
   ],
   "source": [
    "x= np.array([[3.]])\n",
    "IC_EV.run(BO.model_C,x,analytic=True)"
   ]
  },
  {
   "cell_type": "code",
   "execution_count": 77,
   "metadata": {},
   "outputs": [
    {
     "data": {
      "text/plain": [
       "array([2.07156107])"
      ]
     },
     "execution_count": 77,
     "metadata": {},
     "output_type": "execute_result"
    }
   ],
   "source": [
    "BO.up_n"
   ]
  },
  {
   "cell_type": "markdown",
   "metadata": {},
   "source": [
    "To run the IC_EV along with the EI (or WB2, WB2S) we have to specify the treshold on which the EV is acceptable:"
   ]
  },
  {
   "cell_type": "code",
   "execution_count": 78,
   "metadata": {},
   "outputs": [
    {
     "data": {
      "text/plain": [
       "<tf.Tensor: shape=(1, 1), dtype=float64, numpy=array([[10002.05025454]])>"
      ]
     },
     "execution_count": 78,
     "metadata": {},
     "output_type": "execute_result"
    }
   ],
   "source": [
    "IC_EV.run_with_IC(IC,BO.model_Y,BO.model_C,x,threshold=0.3,analytic=True,num_samples=100)"
   ]
  },
  {
   "cell_type": "code",
   "execution_count": 79,
   "metadata": {},
   "outputs": [],
   "source": [
    "bounds = (BO.lw_n,BO.up_n)"
   ]
  },
  {
   "cell_type": "markdown",
   "metadata": {},
   "source": [
    "For optimization:"
   ]
  },
  {
   "cell_type": "code",
   "execution_count": 82,
   "metadata": {},
   "outputs": [
    {
     "data": {
      "text/plain": [
       "array([[0.5]])"
      ]
     },
     "execution_count": 82,
     "metadata": {},
     "output_type": "execute_result"
    }
   ],
   "source": [
    "IC_EV.optimize_with_IC(IC,BO.model_Y,BO.model_C,bounds,threshold=0.1,analytic=True,num_samples=100,method='DE',popsize_DE=3000\\\n",
    "        ,popstd_DE = 1.5,iterations_DE=400, init_adam=None,iterations_adam=1000,)"
   ]
  },
  {
   "cell_type": "markdown",
   "metadata": {},
   "source": [
    "This is the normalized value. To get the orginal value we have to denormalize the location:"
   ]
  },
  {
   "cell_type": "code",
   "execution_count": 47,
   "metadata": {},
   "outputs": [
    {
     "name": "stdout",
     "output_type": "stream",
     "text": [
      "[[0.47627208]]\n"
     ]
    }
   ],
   "source": [
    "print(IC_EV.x_opt*BO.X.std(axis=0)+BO.X.mean(axis=0))"
   ]
  },
  {
   "cell_type": "markdown",
   "metadata": {},
   "source": [
    "### Run the BO loop"
   ]
  },
  {
   "cell_type": "code",
   "execution_count": 14,
   "metadata": {
    "scrolled": true
   },
   "outputs": [
    {
     "name": "stdout",
     "output_type": "stream",
     "text": [
      "adding the most promising data point in iteration 0\n",
      "Training of the objective function model\n",
      "Training of constraint model 1\n",
      "ELBO: -73.6722504558447\n",
      "ELBO: -39.99402863857191\n",
      "ELBO: -36.95697133873597\n",
      "ELBO: -30.591088775681698\n",
      "ELBO: -25.248654139833324\n",
      "ELBO: -24.253462963639144\n",
      "ELBO: -19.255458872245647\n",
      "ELBO: -15.438522172113611\n",
      "ELBO: -12.242492818998645\n",
      "ELBO: -9.487940106951285\n",
      "ELBO: -7.6508259633750715\n",
      "ELBO: -7.165530583309681\n",
      "ELBO: -7.035753801289697\n",
      "ELBO: -6.992237579519968\n",
      "ELBO: -6.968615271787655\n",
      "ELBO: -6.949240726294715\n",
      "ELBO: -6.931270609718898\n",
      "ELBO: -6.891912568187555\n",
      "ELBO: -6.852125144898878\n",
      "ELBO: -6.79495883774212\n",
      "ELBO: -6.740401226669386\n",
      "ELBO: -6.68522955460525\n",
      "ELBO: -6.6176437047013446\n",
      "ELBO: -6.563475890598324\n",
      "ELBO: -6.535583132479516\n",
      "ELBO: -6.485925966314247\n",
      "ELBO: -6.443953214760138\n",
      "ELBO: -6.4432212304066105\n",
      "ELBO: -6.41168432486277\n",
      "ELBO: -6.400633095100558\n",
      "ELBO: -6.392131866276726\n",
      "ELBO: -6.380814383239343\n",
      "ELBO: -6.380727168503464\n",
      "ELBO: -6.33465376054593\n",
      "ELBO: -6.355368449805302\n",
      "ELBO: -6.343249590968402\n",
      "ELBO: -6.368957728862923\n",
      "ELBO: -6.297827536779819\n",
      "ELBO: -6.289314446164598\n",
      "ELBO: -6.337895971509448\n",
      "ELBO: -6.3077250645884355\n",
      "ELBO: -6.282237344611959\n",
      "ELBO: -6.331624520190595\n",
      "ELBO: -6.287201555384446\n",
      "ELBO: -6.333043822251824\n",
      "Actual Y min: 0.17355189315573133\n",
      "adding the most promising data point in iteration 1\n",
      "Training of the objective function model\n",
      "Training of constraint model 1\n",
      "ELBO: -73.87381316855146\n",
      "ELBO: -70.24431961912539\n",
      "ELBO: -69.25985901564825\n",
      "ELBO: -68.31277782662966\n",
      "ELBO: -67.44473134910518\n",
      "ELBO: -66.72638832449223\n",
      "ELBO: -59.614623442256296\n",
      "ELBO: -53.93211368781065\n",
      "ELBO: -48.639468836460274\n",
      "ELBO: -43.5056892332871\n",
      "ELBO: -38.45526864786287\n",
      "ELBO: -33.52210928018744\n",
      "ELBO: -28.753721137907423\n",
      "ELBO: -24.260384096626236\n",
      "ELBO: -20.068479200153508\n",
      "ELBO: -16.100466482481536\n",
      "ELBO: -12.397229902486558\n",
      "ELBO: -9.18342535873448\n",
      "ELBO: -6.858574207919242\n",
      "ELBO: -5.656805277878288\n",
      "ELBO: -5.263119574829381\n",
      "ELBO: -5.174033905885542\n",
      "ELBO: -5.149011112123164\n",
      "ELBO: -5.138732218017408\n",
      "ELBO: -5.137317298583882\n",
      "Actual Y min: 0.17355189315573133\n",
      "adding the most promising data point in iteration 2\n",
      "Training of the objective function model\n",
      "Training of constraint model 1\n",
      "ELBO: -71.50469068758217\n",
      "ELBO: -70.04392304264834\n",
      "ELBO: -70.04950793797646\n",
      "ELBO: -70.04090658549553\n",
      "ELBO: -70.04660127183908\n",
      "ELBO: -70.03934810002752\n",
      "ELBO: -63.759585726487025\n",
      "ELBO: -58.40153387088199\n",
      "ELBO: -53.29918599802801\n",
      "ELBO: -48.21863679756178\n",
      "ELBO: -43.17745181711393\n",
      "ELBO: -38.150258973878294\n",
      "ELBO: -33.12030347186266\n",
      "ELBO: -28.110106039287345\n",
      "ELBO: -23.13543228401987\n",
      "ELBO: -18.251038632573845\n",
      "ELBO: -13.582782462584742\n",
      "ELBO: -9.486062390480688\n",
      "ELBO: -6.45747232355083\n",
      "ELBO: -4.832396472335561\n",
      "ELBO: -4.303909169509138\n",
      "ELBO: -4.166603693774185\n",
      "ELBO: -4.1328227547463\n",
      "ELBO: -4.133050494703493\n",
      "ELBO: -4.147069592357839\n",
      "Actual Y min: 0.17355189315573133\n",
      "adding the most promising data point in iteration 3\n",
      "The DGP architecture\n",
      "layer 1 : dim_in 1 --> dim_out 1\n",
      "layer 2 : dim_in 1 --> dim_out 1\n",
      "Training of the objective function model\n",
      "Training of constraint model 1\n",
      "ELBO: -117.87560072944773\n",
      "ELBO: -87.70102474223837\n",
      "ELBO: -80.15712316264155\n",
      "ELBO: -64.75867123113896\n",
      "ELBO: -62.878291889081886\n",
      "ELBO: -61.83145941514723\n",
      "ELBO: -52.24199002625777\n",
      "ELBO: -44.35337362754089\n",
      "ELBO: -37.49093810403607\n",
      "ELBO: -30.104060939693564\n",
      "ELBO: -25.31560493133661\n",
      "ELBO: -20.4569064029047\n",
      "ELBO: -16.752068880848128\n",
      "ELBO: -13.687200058421244\n",
      "ELBO: -10.844950279190579\n",
      "ELBO: -9.0377843583225\n",
      "ELBO: -7.106139949769043\n",
      "ELBO: -4.469020849410114\n",
      "ELBO: -2.9327029813874272\n",
      "ELBO: -2.0122653426709487\n",
      "ELBO: -1.3612572173165223\n",
      "ELBO: -0.7913820819499158\n",
      "ELBO: -0.6343472634893175\n",
      "ELBO: -0.47744267750505287\n",
      "ELBO: -0.5216134885424921\n",
      "ELBO: -0.04071344043952507\n",
      "ELBO: -0.013011246767646867\n",
      "ELBO: 0.06518272966339822\n",
      "ELBO: 0.10952144687989929\n",
      "ELBO: 0.12081832816318183\n",
      "ELBO: 0.2572391603452111\n",
      "ELBO: 0.25466331635611894\n",
      "ELBO: 0.37576863466318855\n",
      "ELBO: 0.37399256732620856\n",
      "ELBO: 0.5018438355824131\n",
      "ELBO: 0.5356745548140438\n",
      "ELBO: 0.4151090444761891\n",
      "ELBO: 0.43052210885399944\n",
      "ELBO: 0.3867817142741572\n",
      "ELBO: 0.575768360178607\n",
      "ELBO: 0.6381778564334724\n",
      "ELBO: 0.4339181246986996\n",
      "ELBO: 0.6793839682163849\n",
      "ELBO: 0.6384477310430441\n",
      "ELBO: 0.6703552820536984\n",
      "Actual Y min: 0.15076040083174433\n",
      "adding the most promising data point in iteration 4\n",
      "Training of the objective function model\n",
      "Training of constraint model 1\n",
      "ELBO: -505.2406525576146\n",
      "ELBO: -135.06577363651334\n",
      "ELBO: -119.82157330790734\n",
      "ELBO: -112.05886301238114\n",
      "ELBO: -110.1234237963303\n",
      "ELBO: -109.85037755054307\n",
      "ELBO: -99.33616410456968\n",
      "ELBO: -89.26891222766996\n",
      "ELBO: -79.46602633659249\n",
      "ELBO: -70.13128860476877\n",
      "ELBO: -61.30297290191638\n",
      "ELBO: -52.853107790155924\n",
      "ELBO: -44.67675384194179\n",
      "ELBO: -36.60106512209427\n",
      "ELBO: -28.926201733805502\n",
      "ELBO: -21.479757092694783\n",
      "ELBO: -14.786383212682125\n",
      "ELBO: -9.094617235579635\n",
      "ELBO: -5.042477796338201\n",
      "ELBO: -2.950245964435217\n",
      "ELBO: -2.222747207687936\n",
      "ELBO: -2.0950172700164096\n",
      "ELBO: -2.0578522594528614\n",
      "ELBO: -1.923632009576755\n",
      "ELBO: -1.9100514212037787\n",
      "Actual Y min: 0.142512394873708\n"
     ]
    }
   ],
   "source": [
    "BO.run(5,from_scratch=3,IC ='EI' ,train_iterations=4000,popsize_DE=300\\\n",
    "        ,popstd_DE = 3.,threshold=0.1,iterations_DE=400,constraint_handling='EV', init_adam=None,iterations_adam=1000,IC_method='DE+Adam',analytic=True)"
   ]
  },
  {
   "cell_type": "code",
   "execution_count": 15,
   "metadata": {},
   "outputs": [
    {
     "data": {
      "text/plain": [
       "array([0.17355189, 0.17355189, 0.17355189, 0.17355189, 0.1507604 ,\n",
       "       0.14251239])"
      ]
     },
     "execution_count": 15,
     "metadata": {},
     "output_type": "execute_result"
    }
   ],
   "source": [
    "BO.Ymin"
   ]
  },
  {
   "cell_type": "code",
   "execution_count": 16,
   "metadata": {},
   "outputs": [
    {
     "name": "stdout",
     "output_type": "stream",
     "text": [
      "adding the most promising data point in iteration 0\n",
      "Training of the objective function model\n",
      "Training of constraint model 1\n",
      "ELBO: -104.36575738627668\n",
      "ELBO: -104.38475212909161\n",
      "ELBO: -104.32474319308939\n",
      "ELBO: -104.35587327943247\n",
      "ELBO: -104.39945629491378\n",
      "ELBO: -104.3089025221638\n",
      "ELBO: -96.27762583693897\n",
      "ELBO: -88.16540087401101\n",
      "ELBO: -80.06818210429904\n",
      "ELBO: -71.99747610590587\n",
      "ELBO: -63.93136082897597\n",
      "ELBO: -55.90118194505523\n",
      "ELBO: -47.793592997824085\n",
      "ELBO: -39.7944138929898\n",
      "ELBO: -31.768202518638702\n",
      "ELBO: -24.007248229046404\n",
      "ELBO: -16.557884955758226\n",
      "ELBO: -10.015458409216624\n",
      "ELBO: -5.103881230493567\n",
      "ELBO: -2.5264697072848072\n",
      "ELBO: -1.6440034439430296\n",
      "ELBO: -1.4732316004250166\n",
      "ELBO: -1.4752416682635534\n",
      "ELBO: -1.6111434731714738\n",
      "ELBO: -1.444617358263116\n",
      "ELBO: -1.4218482618600614\n",
      "ELBO: -1.4446377486217337\n",
      "ELBO: -1.419944633490985\n",
      "ELBO: -1.549706725633241\n",
      "ELBO: -1.6804592931055158\n",
      "ELBO: -1.4528856177170635\n",
      "ELBO: -1.545354161421212\n",
      "ELBO: -1.452487148515317\n",
      "ELBO: -1.4858893741262555\n",
      "ELBO: -1.5055701983107497\n",
      "ELBO: -1.4088947843665807\n",
      "ELBO: -1.4612305459863464\n",
      "ELBO: -1.4489632687865388\n",
      "ELBO: -1.4543817172526161\n",
      "ELBO: -1.4026619016243966\n",
      "ELBO: -1.5854439499662067\n",
      "ELBO: -1.4300918577821413\n",
      "ELBO: -1.4456522208956564\n",
      "ELBO: -1.4738716872562598\n",
      "ELBO: -1.4766115395823132\n",
      "Actual Y min: 0.13964761060813022\n",
      "adding the most promising data point in iteration 1\n",
      "Training of the objective function model\n",
      "Training of constraint model 1\n",
      "ELBO: -224.83102570122918\n",
      "ELBO: -115.11705175692252\n",
      "ELBO: -111.98130539709439\n",
      "ELBO: -111.86583832848221\n",
      "ELBO: -111.9744366216067\n",
      "ELBO: -111.86492951000514\n",
      "ELBO: -100.49213396087073\n",
      "ELBO: -89.31874589496731\n",
      "ELBO: -79.68104734235885\n",
      "ELBO: -71.24255801346393\n",
      "ELBO: -62.990242324815185\n",
      "ELBO: -54.971880124171236\n",
      "ELBO: -46.79976007138663\n",
      "ELBO: -38.66947355981816\n",
      "ELBO: -30.610332948711477\n",
      "ELBO: -22.757607911833446\n",
      "ELBO: -15.334811892217967\n",
      "ELBO: -8.721412237017546\n",
      "ELBO: -3.7915186117964197\n",
      "ELBO: -1.198134248034524\n",
      "ELBO: -0.30723203248745534\n",
      "ELBO: 0.010957422256559823\n",
      "ELBO: 0.10887841544298027\n",
      "ELBO: 0.05516252287069534\n",
      "ELBO: 0.2202632596513432\n",
      "Actual Y min: 0.13033501920696328\n",
      "adding the most promising data point in iteration 2\n",
      "Training of the objective function model\n",
      "Training of constraint model 1\n",
      "ELBO: -125.42014444044524\n",
      "ELBO: -104.7551765790117\n",
      "ELBO: -104.76582196417776\n",
      "ELBO: -104.7035864136836\n",
      "ELBO: -104.88440925310596\n",
      "ELBO: -104.6541745472323\n",
      "ELBO: -95.01395688540845\n",
      "ELBO: -86.46645213601357\n",
      "ELBO: -78.26698791983544\n",
      "ELBO: -70.12520694871291\n",
      "ELBO: -62.04948175216232\n",
      "ELBO: -53.94454764278451\n",
      "ELBO: -45.92034797997374\n",
      "ELBO: -37.83578630457339\n",
      "ELBO: -29.73571680473427\n",
      "ELBO: -21.888180744173578\n",
      "ELBO: -14.469188845389368\n",
      "ELBO: -7.72707938888205\n",
      "ELBO: -2.8514389063074894\n",
      "ELBO: -0.13740195053576088\n",
      "ELBO: 0.6915681186232483\n",
      "ELBO: 0.9229862520040761\n",
      "ELBO: 1.0767454322285168\n",
      "ELBO: 1.0789979697489152\n",
      "ELBO: 1.139787915159392\n",
      "Actual Y min: 0.12322374483022482\n",
      "adding the most promising data point in iteration 3\n",
      "The DGP architecture\n",
      "layer 1 : dim_in 1 --> dim_out 1\n",
      "layer 2 : dim_in 1 --> dim_out 1\n",
      "Training of the objective function model\n",
      "Training of constraint model 1\n",
      "ELBO: -191.54785118534446\n",
      "ELBO: -155.67870803340134\n",
      "ELBO: -148.07336831017486\n",
      "ELBO: -136.14747106592932\n",
      "ELBO: -129.493130747882\n",
      "ELBO: -128.11287125381534\n",
      "ELBO: -109.51616864961144\n",
      "ELBO: -96.01950549879663\n",
      "ELBO: -83.80152173922251\n",
      "ELBO: -71.18357636052954\n",
      "ELBO: -57.596823532590626\n",
      "ELBO: -47.906640499557625\n",
      "ELBO: -40.60773333896189\n",
      "ELBO: -33.68403055796088\n",
      "ELBO: -25.18791521343994\n",
      "ELBO: -17.37223532928291\n",
      "ELBO: -10.02896602074133\n",
      "ELBO: -3.5012442750232466\n",
      "ELBO: 1.2731209717361551\n",
      "ELBO: 4.4001660978608825\n",
      "ELBO: 6.402163098802074\n",
      "ELBO: 6.712734030982094\n",
      "ELBO: 7.308464737379872\n",
      "ELBO: 7.491520977104109\n",
      "ELBO: 7.425566158617514\n",
      "ELBO: 7.884344140293663\n",
      "ELBO: 8.390687530399127\n",
      "ELBO: 8.49030065919326\n",
      "ELBO: 8.516281194599905\n",
      "ELBO: 8.436482807036427\n",
      "ELBO: 8.823115442931062\n",
      "ELBO: 8.801488517668538\n",
      "ELBO: 8.80587989598012\n",
      "ELBO: 8.51773242913788\n",
      "ELBO: 9.565407292909182\n",
      "ELBO: 9.217666443126852\n",
      "ELBO: 9.587790387161142\n",
      "ELBO: 9.017520059736178\n",
      "ELBO: 9.707965510008556\n",
      "ELBO: 7.566045688510087\n",
      "ELBO: 9.85465382108763\n",
      "ELBO: 9.577395951835797\n",
      "ELBO: 10.232521042887385\n",
      "ELBO: 9.477423036615981\n",
      "ELBO: 10.31651524222076\n",
      "Actual Y min: 0.09982584728917254\n",
      "adding the most promising data point in iteration 4\n",
      "Training of the objective function model\n",
      "Training of constraint model 1\n",
      "ELBO: -1112.3319548128607\n",
      "ELBO: -191.58669498486168\n",
      "ELBO: -176.8821924561114\n",
      "ELBO: -173.64726851857415\n",
      "ELBO: -172.51025404993788\n",
      "ELBO: -172.56660663333406\n",
      "ELBO: -153.8352152494104\n",
      "ELBO: -137.72892466271904\n",
      "ELBO: -121.40878722936421\n",
      "ELBO: -106.00170837214799\n",
      "ELBO: -91.45395729212267\n",
      "ELBO: -78.34022208437435\n",
      "ELBO: -64.5975694022934\n",
      "ELBO: -51.6704302809506\n",
      "ELBO: -39.85215882879696\n",
      "ELBO: -26.0817072893023\n",
      "ELBO: -13.692767926138245\n",
      "ELBO: -3.29662216345298\n",
      "ELBO: 4.246256223111452\n",
      "ELBO: 7.563912292472324\n",
      "ELBO: 9.338641271723347\n",
      "ELBO: 8.696461731113985\n",
      "ELBO: 9.395981430112904\n",
      "ELBO: 9.13692359264003\n",
      "ELBO: 4.764993055509727\n",
      "Actual Y min: 0.08509663947575162\n"
     ]
    }
   ],
   "source": [
    "BO.run(5,from_scratch=3,IC ='EI' ,train_iterations=4000,popsize_DE=300\\\n",
    "        ,popstd_DE = 3.,threshold=0.1,iterations_DE=400,constraint_handling='EV', init_adam=None,iterations_adam=1000,IC_method='DE+Adam',analytic=True)"
   ]
  },
  {
   "cell_type": "code",
   "execution_count": 17,
   "metadata": {},
   "outputs": [
    {
     "name": "stdout",
     "output_type": "stream",
     "text": [
      "adding the most promising data point in iteration 0\n",
      "Training of the objective function model\n",
      "Training of constraint model 1\n",
      "ELBO: -157.60904236881004\n",
      "ELBO: -157.11634931201428\n",
      "ELBO: -158.20926569026386\n",
      "ELBO: -158.10546979949444\n",
      "ELBO: -156.98337250741815\n",
      "ELBO: -157.1446827767565\n",
      "ELBO: -144.66713600823994\n",
      "ELBO: -132.24192326032625\n",
      "ELBO: -117.46913936212586\n",
      "ELBO: -104.64350809024413\n",
      "ELBO: -91.07781658276801\n",
      "ELBO: -78.37537671353752\n",
      "ELBO: -65.03653094098769\n",
      "ELBO: -51.78080051178112\n",
      "ELBO: -39.97766805921031\n",
      "ELBO: -26.91828659940508\n",
      "ELBO: -14.520027243783872\n",
      "ELBO: -3.7594355987326864\n",
      "ELBO: 3.7296486752884377\n",
      "ELBO: 8.573322886430994\n",
      "ELBO: 9.78814576620423\n",
      "ELBO: 10.364282941588606\n",
      "ELBO: 9.216877838908374\n",
      "ELBO: 10.019277823929961\n",
      "ELBO: 9.089663447747952\n",
      "ELBO: 10.097469141865616\n",
      "ELBO: 9.114295119034814\n",
      "ELBO: 10.625638767149034\n",
      "ELBO: 8.96048749375204\n",
      "ELBO: 10.379507737482555\n",
      "ELBO: 10.227030740254925\n",
      "ELBO: 10.37375168655069\n",
      "ELBO: 10.389201763903394\n",
      "ELBO: 10.084100964675052\n",
      "ELBO: 10.123333332360218\n",
      "ELBO: 10.345154015827816\n",
      "ELBO: 9.052413703550798\n",
      "ELBO: 9.852797547713699\n",
      "ELBO: 10.189259551438198\n",
      "ELBO: 9.7234213226264\n",
      "ELBO: 10.659481580461154\n",
      "ELBO: 10.826540455704517\n",
      "ELBO: 10.898544584409294\n",
      "ELBO: 9.933037387562102\n",
      "ELBO: 10.488858535654849\n",
      "Actual Y min: 0.08210944857604378\n",
      "adding the most promising data point in iteration 1\n",
      "Training of the objective function model\n",
      "Training of constraint model 1\n",
      "ELBO: -3807.16642765495\n",
      "ELBO: -248.28894239127663\n",
      "ELBO: -200.8083513886552\n",
      "ELBO: -183.78250256385172\n",
      "ELBO: -179.96875404879393\n",
      "ELBO: -179.5619632421573\n",
      "ELBO: -162.52373134750252\n",
      "ELBO: -148.17395266119945\n",
      "ELBO: -129.6668552109385\n",
      "ELBO: -114.48468112654102\n",
      "ELBO: -98.46947479388749\n",
      "ELBO: -82.60270964768144\n",
      "ELBO: -68.15257484943533\n",
      "ELBO: -54.971155094580695\n",
      "ELBO: -41.22854493968248\n",
      "ELBO: -28.104972242696306\n",
      "ELBO: -15.378177147826605\n",
      "ELBO: -5.052355240934332\n",
      "ELBO: 1.8322395130051987\n",
      "ELBO: 8.142970581183476\n",
      "ELBO: 7.856682876908387\n",
      "ELBO: 10.713662993004661\n",
      "ELBO: 10.966558413278314\n",
      "ELBO: 11.242962131135634\n",
      "ELBO: 10.836711665119267\n",
      "Actual Y min: 0.07102298226839295\n",
      "adding the most promising data point in iteration 2\n",
      "Training of the objective function model\n",
      "Training of constraint model 1\n",
      "ELBO: -698.2465504414002\n",
      "ELBO: -183.80653441762576\n",
      "ELBO: -173.07196812822116\n",
      "ELBO: -171.5655985340524\n",
      "ELBO: -171.9371091917217\n",
      "ELBO: -172.025076084177\n",
      "ELBO: -154.49172069895727\n",
      "ELBO: -138.3178294618598\n",
      "ELBO: -121.43531478412291\n",
      "ELBO: -106.217339824106\n",
      "ELBO: -92.93169494800446\n",
      "ELBO: -79.93212883662069\n",
      "ELBO: -67.25015357452823\n",
      "ELBO: -53.92370024995972\n",
      "ELBO: -40.56877860923623\n",
      "ELBO: -28.342926477700495\n",
      "ELBO: -15.367874398550718\n",
      "ELBO: -4.730873001963609\n",
      "ELBO: 3.54316964889653\n",
      "ELBO: 7.968882329159364\n",
      "ELBO: 9.457342159075253\n",
      "ELBO: 8.928275335030115\n",
      "ELBO: 9.961243573314157\n",
      "ELBO: 7.537066517630869\n",
      "ELBO: 9.92399777075316\n",
      "Actual Y min: 0.06255951879737233\n"
     ]
    }
   ],
   "source": [
    "BO.run(3,from_scratch=3,IC ='EI' ,train_iterations=4000,popsize_DE=300\\\n",
    "        ,popstd_DE = 3.,threshold=0.1,iterations_DE=400,constraint_handling='EV', init_adam=None,iterations_adam=1000,IC_method='DE+Adam',analytic=True)"
   ]
  },
  {
   "cell_type": "code",
   "execution_count": 18,
   "metadata": {},
   "outputs": [
    {
     "data": {
      "text/plain": [
       "array([0.17355189, 0.17355189, 0.17355189, 0.17355189, 0.1507604 ,\n",
       "       0.14251239, 0.13964761, 0.13033502, 0.12322374, 0.09982585,\n",
       "       0.08509664, 0.08210945, 0.07102298, 0.06255952])"
      ]
     },
     "execution_count": 18,
     "metadata": {},
     "output_type": "execute_result"
    }
   ],
   "source": [
    "BO.Ymin"
   ]
  },
  {
   "cell_type": "code",
   "execution_count": 19,
   "metadata": {},
   "outputs": [
    {
     "data": {
      "text/plain": [
       "[<matplotlib.lines.Line2D at 0x7f3f482450b8>]"
      ]
     },
     "execution_count": 19,
     "metadata": {},
     "output_type": "execute_result"
    },
    {
     "data": {
      "image/png": "[encoded data removed]",
      "text/plain": [
       "<Figure size 432x288 with 1 Axes>"
      ]
     },
     "metadata": {
      "needs_background": "light"
     },
     "output_type": "display_data"
    }
   ],
   "source": [
    "plt.figure()\n",
    "plt.plot(np.arange(0,len(BO.Ymin),1),BO.Ymin)"
   ]
  },
  {
   "cell_type": "markdown",
   "metadata": {},
   "source": [
    "### Now using a GP for the constraint"
   ]
  },
  {
   "cell_type": "code",
   "execution_count": 21,
   "metadata": {},
   "outputs": [],
   "source": [
    "model_C_dic = {'num_layers':0,'kernels':'rbf'}\n",
    "BO_GP = SO_BO(problem,DoE_size=5,model_Y_dic=model_Y_dic,model_C_dic=model_C_dic,normalize_input=True)\n"
   ]
  },
  {
   "cell_type": "code",
   "execution_count": 22,
   "metadata": {
    "scrolled": true
   },
   "outputs": [
    {
     "name": "stdout",
     "output_type": "stream",
     "text": [
      "adding the most promising data point in iteration 0\n",
      "Training of the objective function model\n",
      "Training of constraint model 1\n",
      "Actual Y min: 0.1616389283660566\n",
      "adding the most promising data point in iteration 1\n",
      "Training of the objective function model\n",
      "Training of constraint model 1\n",
      "Actual Y min: 0.13687942764692898\n",
      "adding the most promising data point in iteration 2\n",
      "Training of the objective function model\n",
      "Training of constraint model 1\n",
      "Actual Y min: 0.10711606267747553\n",
      "adding the most promising data point in iteration 3\n",
      "Training of the objective function model\n",
      "Training of constraint model 1\n",
      "Actual Y min: 0.09206730846372368\n",
      "adding the most promising data point in iteration 4\n",
      "Training of the objective function model\n",
      "Training of constraint model 1\n",
      "Actual Y min: 0.07553200757387137\n",
      "adding the most promising data point in iteration 0\n",
      "Training of the objective function model\n",
      "Training of constraint model 1\n",
      "Actual Y min: 0.07346148679562055\n",
      "adding the most promising data point in iteration 1\n",
      "Training of the objective function model\n",
      "Training of constraint model 1\n",
      "Actual Y min: 0.07346148679562055\n",
      "adding the most promising data point in iteration 2\n",
      "Training of the objective function model\n",
      "Training of constraint model 1\n",
      "Actual Y min: 0.07346148679562055\n",
      "adding the most promising data point in iteration 0\n",
      "Training of the objective function model\n",
      "Training of constraint model 1\n",
      "Actual Y min: 0.0729086900853031\n",
      "adding the most promising data point in iteration 1\n",
      "Training of the objective function model\n",
      "Training of constraint model 1\n",
      "Actual Y min: 0.0706684120790352\n",
      "adding the most promising data point in iteration 2\n",
      "Training of the objective function model\n",
      "Training of constraint model 1\n",
      "Actual Y min: 0.06888162934222057\n",
      "adding the most promising data point in iteration 3\n",
      "Training of the objective function model\n",
      "Training of constraint model 1\n",
      "Actual Y min: 0.06888162934222057\n",
      "adding the most promising data point in iteration 4\n",
      "Training of the objective function model\n",
      "Training of constraint model 1\n",
      "Actual Y min: 0.06888162934222057\n"
     ]
    }
   ],
   "source": [
    "BO_GP.run(5,from_scratch=3,IC ='EI' ,train_iterations=2000,popsize_DE=300\\\n",
    "        ,popstd_DE = 3.,threshold=0.1,iterations_DE=400,constraint_handling='EV', init_adam=None,iterations_adam=1000,IC_method='DE+Adam',analytic=True)\n",
    "BO_GP.run(3,from_scratch=3,IC ='EI' ,train_iterations=2000,popsize_DE=300\\\n",
    "        ,popstd_DE = 3.,threshold=0.1,iterations_DE=400,constraint_handling='EV', init_adam=None,iterations_adam=1000,IC_method='DE+Adam',analytic=True)\n",
    "BO_GP.run(5,from_scratch=3,IC ='EI' ,train_iterations=2000,popsize_DE=300\\\n",
    "        ,popstd_DE = 3.,threshold=0.1,iterations_DE=400,constraint_handling='EV', init_adam=None,iterations_adam=1000,IC_method='DE+Adam',analytic=True)"
   ]
  },
  {
   "cell_type": "code",
   "execution_count": 23,
   "metadata": {},
   "outputs": [
    {
     "data": {
      "text/plain": [
       "<matplotlib.legend.Legend at 0x7f3ee4600f28>"
      ]
     },
     "execution_count": 23,
     "metadata": {},
     "output_type": "execute_result"
    },
    {
     "data": {
      "image/png": "[encoded data removed]",
      "text/plain": [
       "<Figure size 432x288 with 1 Axes>"
      ]
     },
     "metadata": {
      "needs_background": "light"
     },
     "output_type": "display_data"
    }
   ],
   "source": [
    "plt.figure()\n",
    "plt.plot(np.arange(0,len(BO.Ymin),1),BO.Ymin,label='BO_DGP')\n",
    "plt.plot(np.arange(0,len(BO.Ymin),1),BO_GP.Ymin,label='BO-GP')\n",
    "plt.legend()"
   ]
  }
 ],
 "metadata": {
  "kernelspec": {
   "display_name": "Python 3",
   "language": "python",
   "name": "python3"
  },
  "language_info": {
   "codemirror_mode": {
    "name": "ipython",
    "version": 3
   },
   "file_extension": ".py",
   "mimetype": "text/x-python",
   "name": "python",
   "nbconvert_exporter": "python",
   "pygments_lexer": "ipython3",
   "version": "3.6.12"
  }
 },
 "nbformat": 4,
 "nbformat_minor": 2
}
