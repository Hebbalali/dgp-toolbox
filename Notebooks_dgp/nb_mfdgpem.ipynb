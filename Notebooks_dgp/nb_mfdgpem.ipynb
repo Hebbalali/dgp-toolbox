{
 "cells": [
  {
   "cell_type": "markdown",
   "metadata": {},
   "source": [
    "# MF-DGP-EM"
   ]
  },
  {
   "cell_type": "code",
   "execution_count": 1,
   "metadata": {},
   "outputs": [],
   "source": [
    "import tensorflow as tf\n",
    "import gpflow\n",
    "import numpy as np\n",
    "import emukit.multi_fidelity\n",
    "import emukit.test_functions\n",
    "from dgp_dace.models.MF_DGP_EM import MultiFidelityDeepGP_EM\n",
    "from gpflow import set_trainable\n",
    "from sklearn.metrics import mean_squared_error, r2_score\n",
    "import scipy\n",
    "from prettytable import PrettyTable\n",
    "import pyDOE"
   ]
  },
  {
   "cell_type": "code",
   "execution_count": 2,
   "metadata": {},
   "outputs": [],
   "source": [
    "from emukit.test_functions.multi_fidelity import (multi_fidelity_borehole_function, multi_fidelity_branin_function,\n",
    "                                                  multi_fidelity_park_function, multi_fidelity_hartmann_3d,\n",
    "                                                  multi_fidelity_currin_function)\n",
    "from emukit.core import ContinuousParameter, ParameterSpace\n",
    "from emukit.experimental_design.model_free.latin_design import LatinDesign"
   ]
  },
  {
   "cell_type": "code",
   "execution_count": 3,
   "metadata": {},
   "outputs": [],
   "source": [
    "from emukit.core.loop.user_function import MultiSourceFunctionWrapper\n",
    "from typing import Tuple\n",
    "from collections import namedtuple\n",
    "from emukit.core import ParameterSpace, ContinuousParameter, InformationSourceParameter\n",
    "Function = namedtuple('Function', ['name', 'y_scale', 'noise_level', 'do_x_scaling', 'num_data', 'fcn','input_dim'])\n"
   ]
  },
  {
   "cell_type": "code",
   "execution_count": 4,
   "metadata": {},
   "outputs": [],
   "source": [
    "def multi_fidelity_park_VD() -> Tuple[MultiSourceFunctionWrapper, ParameterSpace]:\n",
    "    def high(x):\n",
    "        x1 = x[:, 0]\n",
    "        x2 = x[:, 2]\n",
    "        x3 = x[:, 1]\n",
    "        x4 = x[:, 3]\n",
    "        tmp = 1 + (x2 + x3) * (x4 / x1**2)\n",
    "        return ((x1 / 2) * (np.sqrt(tmp) - 1) + (x1 + 3 * x4) * np.exp(1 + np.sin(x3)))[:, None]\n",
    "    def low(x):\n",
    "        # f_high = high(x)\n",
    "        f_high = high(np.concatenate((x,0.5*np.ones((x.shape[0],2))),1))\n",
    "        x1 = x[:, 0]\n",
    "        x2 = x[:, 1]\n",
    "        # x3 = x[:, 2]\n",
    "        # x4 = x[:, 3]\n",
    "        return ((1 + np.sin(x1) / 10) * f_high.flatten() - 2 * x1 + x2**2 + 0.5**2 + 0.5)[:, None]#f_high.flatten()[:, None] #\n",
    "    space = ParameterSpace([ContinuousParameter('x1', 0, 1), ContinuousParameter('x2', 0, 1),\n",
    "                            InformationSourceParameter(2)])\n",
    "    return MultiSourceFunctionWrapper([low, high]), space"
   ]
  },
  {
   "cell_type": "code",
   "execution_count": 5,
   "metadata": {},
   "outputs": [],
   "source": [
    "Park_VD = Function(name='Park_VD', y_scale=1, noise_level=[0., 0.], do_x_scaling=False, num_data=[30, 6], \n",
    "                fcn=multi_fidelity_park_VD, input_dim=[2,4])      "
   ]
  },
  {
   "cell_type": "code",
   "execution_count": 6,
   "metadata": {},
   "outputs": [],
   "source": [
    "\n",
    "def generate_data(fcn_tuple,sd=100):\n",
    "    \"\"\"\n",
    "    Generates train and test data for\n",
    "    \"\"\"\n",
    "    # A different definition of the parameter space for the branin function was used in the paper\n",
    "    if fcn_tuple.name == 'branin':\n",
    "        fcn, space = fcn_tuple.fcn()\n",
    "        new_space = ParameterSpace([ContinuousParameter('x1', -5., 0.), ContinuousParameter('x2', 10., 15.)])\n",
    "    else:\n",
    "        fcn, space = fcn_tuple.fcn()\n",
    "        new_space = ParameterSpace(space._parameters[:-1])\n",
    "    do_x_scaling = fcn_tuple.do_x_scaling\n",
    "    # Generate training data\n",
    "    X = [pyDOE.lhs(d,n,seed=sd_) for n,d,sd_ in zip(fcn_tuple.num_data,fcn_tuple.input_dim,[123,sd])]\n",
    "    # Scale X if required\n",
    "#    if do_x_scaling:\n",
    "#        scalings = X[0].std(axis=0)\n",
    "#    else:\n",
    "#        scalings = np.ones(X[0].shape[1])\n",
    "#        \n",
    "#    for x in X:\n",
    "#        x /= scalings\n",
    "    Y = []\n",
    "    for i, x in enumerate(X):\n",
    "        Y.append(fcn.f[i](x))\n",
    "    # scale y and add noise if required\n",
    "    noise_levels = fcn_tuple.noise_level\n",
    "#    for y, std_noise in zip(Y, noise_levels):\n",
    "#        y /= y_scale + std_noise * np.random.randn(y.shape[0], 1)\n",
    "    # Generate test data\n",
    "    x_test = pyDOE.lhs(fcn_tuple.input_dim[-1],1000)\n",
    "#    x_test /= scalings\n",
    "    y_test = fcn.f[-1](x_test )\n",
    "    # y_test = (y_test-mean_y)/std_y\n",
    "#     if normalize:\n",
    "#          x_test = (x_test-mean_x)/std_x\n",
    "#    y_test /= y_scale\n",
    "    print(X[1].shape)\n",
    "    return x_test, y_test, X, Y"
   ]
  },
  {
   "cell_type": "code",
   "execution_count": 7,
   "metadata": {},
   "outputs": [],
   "source": [
    "def calculate_metrics(y_test, y_mean_prediction, y_var_prediction):\n",
    "    # R2\n",
    "    r2 = r2_score(y_test, y_mean_prediction)\n",
    "    # RMSE\n",
    "    rmse = np.sqrt(mean_squared_error(y_test, y_mean_prediction))\n",
    "    # Test log likelihood\n",
    "    mnll = -np.sum(scipy.stats.norm.logpdf(y_test, loc=y_mean_prediction, scale=np.sqrt(y_var_prediction)))/len(y_test)\n",
    "    return {'r2': r2, 'rmse': rmse, 'mnll': mnll}\n"
   ]
  },
  {
   "cell_type": "code",
   "execution_count": 8,
   "metadata": {},
   "outputs": [
    {
     "name": "stdout",
     "output_type": "stream",
     "text": [
      "(6, 4)\n"
     ]
    }
   ],
   "source": [
    "sd = 0\n",
    "x_test, y_test, X, Y= generate_data(Park_VD,sd=sd)\n",
    "X_red = X[1][:,:2]"
   ]
  },
  {
   "cell_type": "code",
   "execution_count": 18,
   "metadata": {},
   "outputs": [
    {
     "name": "stdout",
     "output_type": "stream",
     "text": [
      "ELBO: -1381.3228927543003\n",
      "ELBO: -937.3176678832966\n",
      "ELBO: -715.1279544868934\n",
      "ELBO: -564.5640427243848\n",
      "ELBO: -465.23674958154663\n",
      "ELBO: -398.39880197489555\n",
      "ELBO: -352.8819677081529\n",
      "ELBO: -144.86187182928697\n",
      "ELBO: -66.31050796128063\n",
      "ELBO: -32.48282900260296\n",
      "ELBO: -31.760572485196374\n",
      "ELBO: -24.106293526939993\n",
      "ELBO: -358.3613157178246\n",
      "ELBO: -12.8562308381367\n",
      "ELBO: -8.023387547618992\n",
      "ELBO: -5.8533572326578245\n",
      "ELBO: -33.42981673749546\n",
      "ELBO: -1.8225778872164895\n",
      "ELBO: -0.8414113286331286\n",
      "ELBO: -80.39794519021022\n",
      "ELBO: 2.443156989734277\n",
      "ELBO: 3.7116162722612422\n",
      "ELBO: 4.593490356483031\n",
      "ELBO: 4.2669281059101785\n",
      "ELBO: -175.29749907549242\n",
      "ELBO: 5.445050112682594\n",
      "ELBO: 5.272104888838886\n",
      "ELBO: 8.290373312264386\n",
      "ELBO: 5.969367942497339\n",
      "ELBO: -11.585176132170723\n",
      "ELBO: 7.952314106879541\n",
      "ELBO: 9.017765768529053\n",
      "ELBO: 10.234389073885339\n",
      "ELBO: 10.3613103670863\n",
      "ELBO: -171.44121504685958\n",
      "ELBO: 12.618764886581275\n"
     ]
    }
   ],
   "source": [
    "model = MultiFidelityDeepGP_EM(X, Y,[X_red])\n",
    "model.optimize_nat_adam(lr_adam = 0.01,lr_gamma = 0.01,iterations1=0,iterations2=3000 ,iterations3=15000) ### S=100"
   ]
  },
  {
   "cell_type": "code",
   "execution_count": 19,
   "metadata": {},
   "outputs": [],
   "source": [
    "y_mean, y_var = model.predict(x_test)\n",
    "metrics = calculate_metrics(y_test, y_mean, y_var)"
   ]
  },
  {
   "cell_type": "code",
   "execution_count": 20,
   "metadata": {},
   "outputs": [
    {
     "data": {
      "text/plain": [
       "{'r2': 0.8926508912793821,\n",
       " 'rmse': 1.4978208084005984,\n",
       " 'mnll': 2.078440494205319}"
      ]
     },
     "execution_count": 20,
     "metadata": {},
     "output_type": "execute_result"
    }
   ],
   "source": [
    "metrics"
   ]
  },
  {
   "cell_type": "code",
   "execution_count": 21,
   "metadata": {},
   "outputs": [
    {
     "data": {
      "text/html": [
       "&lt;dgp_dace.models.MF_DGP_EM.DGP_Base object at 0x7ff2240898d0&gt;\n",
       "<table>\n",
       "<thead>\n",
       "<tr><th>name                                                                 </th><th>class    </th><th>transform       </th><th>prior  </th><th>trainable  </th><th>shape      </th><th>dtype  </th><th>value                                               </th></tr>\n",
       "</thead>\n",
       "<tbody>\n",
       "<tr><td>DGP_Base.layers[0].q_mu                                              </td><td>Parameter</td><td>Identity        </td><td>       </td><td>False      </td><td>(30, 1)    </td><td>float64</td><td>[[12.11984782...                                    </td></tr>\n",
       "<tr><td>DGP_Base.layers[0].q_sqrt                                            </td><td>Parameter</td><td>FillTriangular  </td><td>       </td><td>False      </td><td>(1, 30, 30)</td><td>float64</td><td>[[[5.62796004e-03, 0.00000000e+00, 0.00000000e+00...</td></tr>\n",
       "<tr><td>DGP_Base.layers[0].feature.Z                                         </td><td>Parameter</td><td>Identity        </td><td>       </td><td>True       </td><td>(30, 2)    </td><td>float64</td><td>[[0.81460241, 0.65482005...                         </td></tr>\n",
       "<tr><td>DGP_Base.layers[0].kern.kernels[0].variance                          </td><td>Parameter</td><td>Softplus        </td><td>       </td><td>True       </td><td>()         </td><td>float64</td><td>49.01285014524215                                   </td></tr>\n",
       "<tr><td>DGP_Base.layers[0].kern.kernels[0].lengthscales                      </td><td>Parameter</td><td>Softplus        </td><td>       </td><td>True       </td><td>(2,)       </td><td>float64</td><td>[2.61114424 1.34178876]                             </td></tr>\n",
       "<tr><td>DGP_Base.layers[0].kern.kernels[1].variance                          </td><td>Parameter</td><td>Softplus        </td><td>       </td><td>True       </td><td>()         </td><td>float64</td><td>2.6820426105939277e-05                              </td></tr>\n",
       "<tr><td>DGP_Base.layers[1].q_mu                                              </td><td>Parameter</td><td>Identity        </td><td>       </td><td>False      </td><td>(6, 1)     </td><td>float64</td><td>[[12.79791697...                                    </td></tr>\n",
       "<tr><td>DGP_Base.layers[1].q_sqrt                                            </td><td>Parameter</td><td>FillTriangular  </td><td>       </td><td>False      </td><td>(1, 6, 6)  </td><td>float64</td><td>[[[0.19828346, 0., 0....                            </td></tr>\n",
       "<tr><td>DGP_Base.layers[1].feature.Z_left                                    </td><td>Parameter</td><td>Identity        </td><td>       </td><td>True       </td><td>(6, 4)     </td><td>float64</td><td>[[0.99649142, 0.6547287, 0.23923421...              </td></tr>\n",
       "<tr><td>DGP_Base.layers[1].kern.kernels[0].kernels[0].variance               </td><td>Parameter</td><td>Softplus        </td><td>       </td><td>True       </td><td>()         </td><td>float64</td><td>7.7536402627517145                                  </td></tr>\n",
       "<tr><td>DGP_Base.layers[1].kern.kernels[0].kernels[0].lengthscales           </td><td>Parameter</td><td>Softplus        </td><td>       </td><td>True       </td><td>()         </td><td>float64</td><td>3.012355814495916                                   </td></tr>\n",
       "<tr><td>DGP_Base.layers[1].kern.kernels[0].kernels[1].kernels[0].variance    </td><td>Parameter</td><td>Softplus        </td><td>       </td><td>True       </td><td>()         </td><td>float64</td><td>59.895088880700996                                  </td></tr>\n",
       "<tr><td>DGP_Base.layers[1].kern.kernels[0].kernels[1].kernels[0].lengthscales</td><td>Parameter</td><td>Softplus        </td><td>       </td><td>True       </td><td>()         </td><td>float64</td><td>121.9794309016364                                   </td></tr>\n",
       "<tr><td>DGP_Base.layers[1].kern.kernels[0].kernels[1].kernels[1].variance    </td><td>Parameter</td><td>Softplus        </td><td>       </td><td>True       </td><td>()         </td><td>float64</td><td>1.2574585969497342e-07                              </td></tr>\n",
       "<tr><td>DGP_Base.layers[1].kern.kernels[1].variance                          </td><td>Parameter</td><td>Softplus        </td><td>       </td><td>True       </td><td>()         </td><td>float64</td><td>60.83340702458819                                   </td></tr>\n",
       "<tr><td>DGP_Base.layers[1].kern.kernels[1].lengthscales                      </td><td>Parameter</td><td>Softplus        </td><td>       </td><td>True       </td><td>()         </td><td>float64</td><td>2.993008427519824                                   </td></tr>\n",
       "<tr><td>DGP_Base.layers_red[0].q_mu                                          </td><td>Parameter</td><td>Identity        </td><td>       </td><td>False      </td><td>(6, 2)     </td><td>float64</td><td>[[0.99192573, 0.65374523...                         </td></tr>\n",
       "<tr><td>DGP_Base.layers_red[0].q_sqrt                                        </td><td>Parameter</td><td>FillTriangular  </td><td>       </td><td>False      </td><td>(2, 6, 6)  </td><td>float64</td><td>[[[0.01974116, 0., 0....                            </td></tr>\n",
       "<tr><td>DGP_Base.layers_red[0].feature.Z                                     </td><td>Parameter</td><td>Identity        </td><td>       </td><td>True       </td><td>(6, 4)     </td><td>float64</td><td>[[0.99527397, 0.65340163, 0.24788251...             </td></tr>\n",
       "<tr><td>DGP_Base.layers_red[0].kern.variance                                 </td><td>Parameter</td><td>Softplus        </td><td>       </td><td>True       </td><td>()         </td><td>float64</td><td>2.152543638325252                                   </td></tr>\n",
       "<tr><td>DGP_Base.layers_red[0].kern.lengthscales                             </td><td>Parameter</td><td>Softplus        </td><td>       </td><td>True       </td><td>(4,)       </td><td>float64</td><td>[3.01631139, 2.9025561, 110.53838728...             </td></tr>\n",
       "<tr><td>DGP_Base.likelihood.likelihood.variance                              </td><td>Parameter</td><td>Softplus + Shift</td><td>       </td><td>False      </td><td>()         </td><td>float64</td><td>0.04055963169131658                                 </td></tr>\n",
       "<tr><td>DGP_Base.likelihood_projection.likelihood.variance                   </td><td>Parameter</td><td>Softplus + Shift</td><td>       </td><td>False      </td><td>()         </td><td>float64</td><td>8.783178604045685e-05                               </td></tr>\n",
       "</tbody>\n",
       "</table>"
      ],
      "text/plain": [
       "<dgp_dace.models.MF_DGP_EM.DGP_Base object at 0x7ff2240898d0>\n",
       "╒═══════════════════════════════════════════════════════════════════════╤═══════════╤══════════════════╤═════════╤═════════════╤═════════════╤═════════╤══════════════════════════════════════════════════════╕\n",
       "│ name                                                                  │ class     │ transform        │ prior   │ trainable   │ shape       │ dtype   │ value                                                │\n",
       "╞═══════════════════════════════════════════════════════════════════════╪═══════════╪══════════════════╪═════════╪═════════════╪═════════════╪═════════╪══════════════════════════════════════════════════════╡\n",
       "│ DGP_Base.layers[0].q_mu                                               │ Parameter │ Identity         │         │ False       │ (30, 1)     │ float64 │ [[12.11984782...                                     │\n",
       "├───────────────────────────────────────────────────────────────────────┼───────────┼──────────────────┼─────────┼─────────────┼─────────────┼─────────┼──────────────────────────────────────────────────────┤\n",
       "│ DGP_Base.layers[0].q_sqrt                                             │ Parameter │ FillTriangular   │         │ False       │ (1, 30, 30) │ float64 │ [[[5.62796004e-03, 0.00000000e+00, 0.00000000e+00... │\n",
       "├───────────────────────────────────────────────────────────────────────┼───────────┼──────────────────┼─────────┼─────────────┼─────────────┼─────────┼──────────────────────────────────────────────────────┤\n",
       "│ DGP_Base.layers[0].feature.Z                                          │ Parameter │ Identity         │         │ True        │ (30, 2)     │ float64 │ [[0.81460241, 0.65482005...                          │\n",
       "├───────────────────────────────────────────────────────────────────────┼───────────┼──────────────────┼─────────┼─────────────┼─────────────┼─────────┼──────────────────────────────────────────────────────┤\n",
       "│ DGP_Base.layers[0].kern.kernels[0].variance                           │ Parameter │ Softplus         │         │ True        │ ()          │ float64 │ 49.01285014524215                                    │\n",
       "├───────────────────────────────────────────────────────────────────────┼───────────┼──────────────────┼─────────┼─────────────┼─────────────┼─────────┼──────────────────────────────────────────────────────┤\n",
       "│ DGP_Base.layers[0].kern.kernels[0].lengthscales                       │ Parameter │ Softplus         │         │ True        │ (2,)        │ float64 │ [2.61114424 1.34178876]                              │\n",
       "├───────────────────────────────────────────────────────────────────────┼───────────┼──────────────────┼─────────┼─────────────┼─────────────┼─────────┼──────────────────────────────────────────────────────┤\n",
       "│ DGP_Base.layers[0].kern.kernels[1].variance                           │ Parameter │ Softplus         │         │ True        │ ()          │ float64 │ 2.6820426105939277e-05                               │\n",
       "├───────────────────────────────────────────────────────────────────────┼───────────┼──────────────────┼─────────┼─────────────┼─────────────┼─────────┼──────────────────────────────────────────────────────┤\n",
       "│ DGP_Base.layers[1].q_mu                                               │ Parameter │ Identity         │         │ False       │ (6, 1)      │ float64 │ [[12.79791697...                                     │\n",
       "├───────────────────────────────────────────────────────────────────────┼───────────┼──────────────────┼─────────┼─────────────┼─────────────┼─────────┼──────────────────────────────────────────────────────┤\n",
       "│ DGP_Base.layers[1].q_sqrt                                             │ Parameter │ FillTriangular   │         │ False       │ (1, 6, 6)   │ float64 │ [[[0.19828346, 0., 0....                             │\n",
       "├───────────────────────────────────────────────────────────────────────┼───────────┼──────────────────┼─────────┼─────────────┼─────────────┼─────────┼──────────────────────────────────────────────────────┤\n",
       "│ DGP_Base.layers[1].feature.Z_left                                     │ Parameter │ Identity         │         │ True        │ (6, 4)      │ float64 │ [[0.99649142, 0.6547287, 0.23923421...               │\n",
       "├───────────────────────────────────────────────────────────────────────┼───────────┼──────────────────┼─────────┼─────────────┼─────────────┼─────────┼──────────────────────────────────────────────────────┤\n",
       "│ DGP_Base.layers[1].kern.kernels[0].kernels[0].variance                │ Parameter │ Softplus         │         │ True        │ ()          │ float64 │ 7.7536402627517145                                   │\n",
       "├───────────────────────────────────────────────────────────────────────┼───────────┼──────────────────┼─────────┼─────────────┼─────────────┼─────────┼──────────────────────────────────────────────────────┤\n",
       "│ DGP_Base.layers[1].kern.kernels[0].kernels[0].lengthscales            │ Parameter │ Softplus         │         │ True        │ ()          │ float64 │ 3.012355814495916                                    │\n",
       "├───────────────────────────────────────────────────────────────────────┼───────────┼──────────────────┼─────────┼─────────────┼─────────────┼─────────┼──────────────────────────────────────────────────────┤\n",
       "│ DGP_Base.layers[1].kern.kernels[0].kernels[1].kernels[0].variance     │ Parameter │ Softplus         │         │ True        │ ()          │ float64 │ 59.895088880700996                                   │\n",
       "├───────────────────────────────────────────────────────────────────────┼───────────┼──────────────────┼─────────┼─────────────┼─────────────┼─────────┼──────────────────────────────────────────────────────┤\n",
       "│ DGP_Base.layers[1].kern.kernels[0].kernels[1].kernels[0].lengthscales │ Parameter │ Softplus         │         │ True        │ ()          │ float64 │ 121.9794309016364                                    │\n",
       "├───────────────────────────────────────────────────────────────────────┼───────────┼──────────────────┼─────────┼─────────────┼─────────────┼─────────┼──────────────────────────────────────────────────────┤\n",
       "│ DGP_Base.layers[1].kern.kernels[0].kernels[1].kernels[1].variance     │ Parameter │ Softplus         │         │ True        │ ()          │ float64 │ 1.2574585969497342e-07                               │\n",
       "├───────────────────────────────────────────────────────────────────────┼───────────┼──────────────────┼─────────┼─────────────┼─────────────┼─────────┼──────────────────────────────────────────────────────┤\n",
       "│ DGP_Base.layers[1].kern.kernels[1].variance                           │ Parameter │ Softplus         │         │ True        │ ()          │ float64 │ 60.83340702458819                                    │\n",
       "├───────────────────────────────────────────────────────────────────────┼───────────┼──────────────────┼─────────┼─────────────┼─────────────┼─────────┼──────────────────────────────────────────────────────┤\n",
       "│ DGP_Base.layers[1].kern.kernels[1].lengthscales                       │ Parameter │ Softplus         │         │ True        │ ()          │ float64 │ 2.993008427519824                                    │\n",
       "├───────────────────────────────────────────────────────────────────────┼───────────┼──────────────────┼─────────┼─────────────┼─────────────┼─────────┼──────────────────────────────────────────────────────┤\n",
       "│ DGP_Base.layers_red[0].q_mu                                           │ Parameter │ Identity         │         │ False       │ (6, 2)      │ float64 │ [[0.99192573, 0.65374523...                          │\n",
       "├───────────────────────────────────────────────────────────────────────┼───────────┼──────────────────┼─────────┼─────────────┼─────────────┼─────────┼──────────────────────────────────────────────────────┤\n",
       "│ DGP_Base.layers_red[0].q_sqrt                                         │ Parameter │ FillTriangular   │         │ False       │ (2, 6, 6)   │ float64 │ [[[0.01974116, 0., 0....                             │\n",
       "├───────────────────────────────────────────────────────────────────────┼───────────┼──────────────────┼─────────┼─────────────┼─────────────┼─────────┼──────────────────────────────────────────────────────┤\n",
       "│ DGP_Base.layers_red[0].feature.Z                                      │ Parameter │ Identity         │         │ True        │ (6, 4)      │ float64 │ [[0.99527397, 0.65340163, 0.24788251...              │\n",
       "├───────────────────────────────────────────────────────────────────────┼───────────┼──────────────────┼─────────┼─────────────┼─────────────┼─────────┼──────────────────────────────────────────────────────┤\n",
       "│ DGP_Base.layers_red[0].kern.variance                                  │ Parameter │ Softplus         │         │ True        │ ()          │ float64 │ 2.152543638325252                                    │\n",
       "├───────────────────────────────────────────────────────────────────────┼───────────┼──────────────────┼─────────┼─────────────┼─────────────┼─────────┼──────────────────────────────────────────────────────┤\n",
       "│ DGP_Base.layers_red[0].kern.lengthscales                              │ Parameter │ Softplus         │         │ True        │ (4,)        │ float64 │ [3.01631139, 2.9025561, 110.53838728...              │\n",
       "├───────────────────────────────────────────────────────────────────────┼───────────┼──────────────────┼─────────┼─────────────┼─────────────┼─────────┼──────────────────────────────────────────────────────┤\n",
       "│ DGP_Base.likelihood.likelihood.variance                               │ Parameter │ Softplus + Shift │         │ False       │ ()          │ float64 │ 0.04055963169131658                                  │\n",
       "├───────────────────────────────────────────────────────────────────────┼───────────┼──────────────────┼─────────┼─────────────┼─────────────┼─────────┼──────────────────────────────────────────────────────┤\n",
       "│ DGP_Base.likelihood_projection.likelihood.variance                    │ Parameter │ Softplus + Shift │         │ False       │ ()          │ float64 │ 8.783178604045685e-05                                │\n",
       "╘═══════════════════════════════════════════════════════════════════════╧═══════════╧══════════════════╧═════════╧═════════════╧═════════════╧═════════╧══════════════════════════════════════════════════════╛"
      ]
     },
     "execution_count": 21,
     "metadata": {},
     "output_type": "execute_result"
    }
   ],
   "source": [
    "model.model"
   ]
  },
  {
   "cell_type": "code",
   "execution_count": 11,
   "metadata": {},
   "outputs": [
    {
     "data": {
      "text/html": [
       "&lt;dgp_dace.models.MF_DGP_EM.DGP_Base object at 0x7fe60c0217f0&gt;\n",
       "<table>\n",
       "<thead>\n",
       "<tr><th>name                                                                 </th><th>class    </th><th>transform       </th><th>prior  </th><th>trainable  </th><th>shape      </th><th>dtype  </th><th>value                                               </th></tr>\n",
       "</thead>\n",
       "<tbody>\n",
       "<tr><td>DGP_Base.layers[0].q_mu                                              </td><td>Parameter</td><td>Identity        </td><td>       </td><td>False      </td><td>(30, 1)    </td><td>float64</td><td>[[12.11979739...                                    </td></tr>\n",
       "<tr><td>DGP_Base.layers[0].q_sqrt                                            </td><td>Parameter</td><td>FillTriangular  </td><td>       </td><td>False      </td><td>(1, 30, 30)</td><td>float64</td><td>[[[7.32239106e-03, 0.00000000e+00, 0.00000000e+00...</td></tr>\n",
       "<tr><td>DGP_Base.layers[0].feature.Z                                         </td><td>Parameter</td><td>Identity        </td><td>       </td><td>True       </td><td>(30, 2)    </td><td>float64</td><td>[[0.85753833, 0.63577056...                         </td></tr>\n",
       "<tr><td>DGP_Base.layers[0].kern.kernels[0].variance                          </td><td>Parameter</td><td>Softplus        </td><td>       </td><td>True       </td><td>()         </td><td>float64</td><td>5.1202684282597435                                  </td></tr>\n",
       "<tr><td>DGP_Base.layers[0].kern.kernels[0].lengthscales                      </td><td>Parameter</td><td>Softplus        </td><td>       </td><td>True       </td><td>(2,)       </td><td>float64</td><td>[1.0549015  0.57052981]                             </td></tr>\n",
       "<tr><td>DGP_Base.layers[0].kern.kernels[1].variance                          </td><td>Parameter</td><td>Softplus        </td><td>       </td><td>True       </td><td>()         </td><td>float64</td><td>4.5554607608940556e-05                              </td></tr>\n",
       "<tr><td>DGP_Base.layers[1].q_mu                                              </td><td>Parameter</td><td>Identity        </td><td>       </td><td>False      </td><td>(6, 1)     </td><td>float64</td><td>[[12.79351926...                                    </td></tr>\n",
       "<tr><td>DGP_Base.layers[1].q_sqrt                                            </td><td>Parameter</td><td>FillTriangular  </td><td>       </td><td>False      </td><td>(1, 6, 6)  </td><td>float64</td><td>[[[0.07884944, 0., 0....                            </td></tr>\n",
       "<tr><td>DGP_Base.layers[1].feature.Z_left                                    </td><td>Parameter</td><td>Identity        </td><td>       </td><td>True       </td><td>(6, 4)     </td><td>float64</td><td>[[1.17791167, 0.62330057, 0.22538032...             </td></tr>\n",
       "<tr><td>DGP_Base.layers[1].kern.kernels[0].kernels[0].variance               </td><td>Parameter</td><td>Softplus        </td><td>       </td><td>True       </td><td>()         </td><td>float64</td><td>0.23439920055907054                                 </td></tr>\n",
       "<tr><td>DGP_Base.layers[1].kern.kernels[0].kernels[0].lengthscales           </td><td>Parameter</td><td>Softplus        </td><td>       </td><td>True       </td><td>()         </td><td>float64</td><td>1.1382324062360167                                  </td></tr>\n",
       "<tr><td>DGP_Base.layers[1].kern.kernels[0].kernels[1].kernels[0].variance    </td><td>Parameter</td><td>Softplus        </td><td>       </td><td>True       </td><td>()         </td><td>float64</td><td>9.65219822912565                                    </td></tr>\n",
       "<tr><td>DGP_Base.layers[1].kern.kernels[0].kernels[1].kernels[0].lengthscales</td><td>Parameter</td><td>Softplus        </td><td>       </td><td>True       </td><td>()         </td><td>float64</td><td>2.6188755362891687                                  </td></tr>\n",
       "<tr><td>DGP_Base.layers[1].kern.kernels[0].kernels[1].kernels[1].variance    </td><td>Parameter</td><td>Softplus        </td><td>       </td><td>True       </td><td>()         </td><td>float64</td><td>0.1790889730420373                                  </td></tr>\n",
       "<tr><td>DGP_Base.layers[1].kern.kernels[1].variance                          </td><td>Parameter</td><td>Softplus        </td><td>       </td><td>True       </td><td>()         </td><td>float64</td><td>13.34022915044233                                   </td></tr>\n",
       "<tr><td>DGP_Base.layers[1].kern.kernels[1].lengthscales                      </td><td>Parameter</td><td>Softplus        </td><td>       </td><td>True       </td><td>()         </td><td>float64</td><td>1.149251180867722                                   </td></tr>\n",
       "<tr><td>DGP_Base.layers_red[0].q_mu                                          </td><td>Parameter</td><td>Identity        </td><td>       </td><td>False      </td><td>(6, 2)     </td><td>float64</td><td>[[0.99643639, 0.65426611...                         </td></tr>\n",
       "<tr><td>DGP_Base.layers_red[0].q_sqrt                                        </td><td>Parameter</td><td>FillTriangular  </td><td>       </td><td>False      </td><td>(2, 6, 6)  </td><td>float64</td><td>[[[1.00000050e-05, 0.00000000e+00, 0.00000000e+00...</td></tr>\n",
       "<tr><td>DGP_Base.layers_red[0].feature.Z                                     </td><td>Parameter</td><td>Identity        </td><td>       </td><td>True       </td><td>(6, 4)     </td><td>float64</td><td>[[0.99615292, 0.65436687, 0.23974502...             </td></tr>\n",
       "<tr><td>DGP_Base.layers_red[0].kern.variance                                 </td><td>Parameter</td><td>Softplus        </td><td>       </td><td>True       </td><td>()         </td><td>float64</td><td>0.3176190065480702                                  </td></tr>\n",
       "<tr><td>DGP_Base.layers_red[0].kern.lengthscales                             </td><td>Parameter</td><td>Softplus        </td><td>       </td><td>True       </td><td>(4,)       </td><td>float64</td><td>[1.3088477, 0.94375108, 2.66524588...               </td></tr>\n",
       "<tr><td>DGP_Base.likelihood.likelihood.variance                              </td><td>Parameter</td><td>Softplus + Shift</td><td>       </td><td>False      </td><td>()         </td><td>float64</td><td>0.04055963169131658                                 </td></tr>\n",
       "<tr><td>DGP_Base.likelihood_projection.likelihood.variance                   </td><td>Parameter</td><td>Softplus + Shift</td><td>       </td><td>False      </td><td>()         </td><td>float64</td><td>8.783178604045685e-05                               </td></tr>\n",
       "</tbody>\n",
       "</table>"
      ],
      "text/plain": [
       "<dgp_dace.models.MF_DGP_EM.DGP_Base object at 0x7fe60c0217f0>\n",
       "╒═══════════════════════════════════════════════════════════════════════╤═══════════╤══════════════════╤═════════╤═════════════╤═════════════╤═════════╤══════════════════════════════════════════════════════╕\n",
       "│ name                                                                  │ class     │ transform        │ prior   │ trainable   │ shape       │ dtype   │ value                                                │\n",
       "╞═══════════════════════════════════════════════════════════════════════╪═══════════╪══════════════════╪═════════╪═════════════╪═════════════╪═════════╪══════════════════════════════════════════════════════╡\n",
       "│ DGP_Base.layers[0].q_mu                                               │ Parameter │ Identity         │         │ False       │ (30, 1)     │ float64 │ [[12.11979739...                                     │\n",
       "├───────────────────────────────────────────────────────────────────────┼───────────┼──────────────────┼─────────┼─────────────┼─────────────┼─────────┼──────────────────────────────────────────────────────┤\n",
       "│ DGP_Base.layers[0].q_sqrt                                             │ Parameter │ FillTriangular   │         │ False       │ (1, 30, 30) │ float64 │ [[[7.32239106e-03, 0.00000000e+00, 0.00000000e+00... │\n",
       "├───────────────────────────────────────────────────────────────────────┼───────────┼──────────────────┼─────────┼─────────────┼─────────────┼─────────┼──────────────────────────────────────────────────────┤\n",
       "│ DGP_Base.layers[0].feature.Z                                          │ Parameter │ Identity         │         │ True        │ (30, 2)     │ float64 │ [[0.85753833, 0.63577056...                          │\n",
       "├───────────────────────────────────────────────────────────────────────┼───────────┼──────────────────┼─────────┼─────────────┼─────────────┼─────────┼──────────────────────────────────────────────────────┤\n",
       "│ DGP_Base.layers[0].kern.kernels[0].variance                           │ Parameter │ Softplus         │         │ True        │ ()          │ float64 │ 5.1202684282597435                                   │\n",
       "├───────────────────────────────────────────────────────────────────────┼───────────┼──────────────────┼─────────┼─────────────┼─────────────┼─────────┼──────────────────────────────────────────────────────┤\n",
       "│ DGP_Base.layers[0].kern.kernels[0].lengthscales                       │ Parameter │ Softplus         │         │ True        │ (2,)        │ float64 │ [1.0549015  0.57052981]                              │\n",
       "├───────────────────────────────────────────────────────────────────────┼───────────┼──────────────────┼─────────┼─────────────┼─────────────┼─────────┼──────────────────────────────────────────────────────┤\n",
       "│ DGP_Base.layers[0].kern.kernels[1].variance                           │ Parameter │ Softplus         │         │ True        │ ()          │ float64 │ 4.5554607608940556e-05                               │\n",
       "├───────────────────────────────────────────────────────────────────────┼───────────┼──────────────────┼─────────┼─────────────┼─────────────┼─────────┼──────────────────────────────────────────────────────┤\n",
       "│ DGP_Base.layers[1].q_mu                                               │ Parameter │ Identity         │         │ False       │ (6, 1)      │ float64 │ [[12.79351926...                                     │\n",
       "├───────────────────────────────────────────────────────────────────────┼───────────┼──────────────────┼─────────┼─────────────┼─────────────┼─────────┼──────────────────────────────────────────────────────┤\n",
       "│ DGP_Base.layers[1].q_sqrt                                             │ Parameter │ FillTriangular   │         │ False       │ (1, 6, 6)   │ float64 │ [[[0.07884944, 0., 0....                             │\n",
       "├───────────────────────────────────────────────────────────────────────┼───────────┼──────────────────┼─────────┼─────────────┼─────────────┼─────────┼──────────────────────────────────────────────────────┤\n",
       "│ DGP_Base.layers[1].feature.Z_left                                     │ Parameter │ Identity         │         │ True        │ (6, 4)      │ float64 │ [[1.17791167, 0.62330057, 0.22538032...              │\n",
       "├───────────────────────────────────────────────────────────────────────┼───────────┼──────────────────┼─────────┼─────────────┼─────────────┼─────────┼──────────────────────────────────────────────────────┤\n",
       "│ DGP_Base.layers[1].kern.kernels[0].kernels[0].variance                │ Parameter │ Softplus         │         │ True        │ ()          │ float64 │ 0.23439920055907054                                  │\n",
       "├───────────────────────────────────────────────────────────────────────┼───────────┼──────────────────┼─────────┼─────────────┼─────────────┼─────────┼──────────────────────────────────────────────────────┤\n",
       "│ DGP_Base.layers[1].kern.kernels[0].kernels[0].lengthscales            │ Parameter │ Softplus         │         │ True        │ ()          │ float64 │ 1.1382324062360167                                   │\n",
       "├───────────────────────────────────────────────────────────────────────┼───────────┼──────────────────┼─────────┼─────────────┼─────────────┼─────────┼──────────────────────────────────────────────────────┤\n",
       "│ DGP_Base.layers[1].kern.kernels[0].kernels[1].kernels[0].variance     │ Parameter │ Softplus         │         │ True        │ ()          │ float64 │ 9.65219822912565                                     │\n",
       "├───────────────────────────────────────────────────────────────────────┼───────────┼──────────────────┼─────────┼─────────────┼─────────────┼─────────┼──────────────────────────────────────────────────────┤\n",
       "│ DGP_Base.layers[1].kern.kernels[0].kernels[1].kernels[0].lengthscales │ Parameter │ Softplus         │         │ True        │ ()          │ float64 │ 2.6188755362891687                                   │\n",
       "├───────────────────────────────────────────────────────────────────────┼───────────┼──────────────────┼─────────┼─────────────┼─────────────┼─────────┼──────────────────────────────────────────────────────┤\n",
       "│ DGP_Base.layers[1].kern.kernels[0].kernels[1].kernels[1].variance     │ Parameter │ Softplus         │         │ True        │ ()          │ float64 │ 0.1790889730420373                                   │\n",
       "├───────────────────────────────────────────────────────────────────────┼───────────┼──────────────────┼─────────┼─────────────┼─────────────┼─────────┼──────────────────────────────────────────────────────┤\n",
       "│ DGP_Base.layers[1].kern.kernels[1].variance                           │ Parameter │ Softplus         │         │ True        │ ()          │ float64 │ 13.34022915044233                                    │\n",
       "├───────────────────────────────────────────────────────────────────────┼───────────┼──────────────────┼─────────┼─────────────┼─────────────┼─────────┼──────────────────────────────────────────────────────┤\n",
       "│ DGP_Base.layers[1].kern.kernels[1].lengthscales                       │ Parameter │ Softplus         │         │ True        │ ()          │ float64 │ 1.149251180867722                                    │\n",
       "├───────────────────────────────────────────────────────────────────────┼───────────┼──────────────────┼─────────┼─────────────┼─────────────┼─────────┼──────────────────────────────────────────────────────┤\n",
       "│ DGP_Base.layers_red[0].q_mu                                           │ Parameter │ Identity         │         │ False       │ (6, 2)      │ float64 │ [[0.99643639, 0.65426611...                          │\n",
       "├───────────────────────────────────────────────────────────────────────┼───────────┼──────────────────┼─────────┼─────────────┼─────────────┼─────────┼──────────────────────────────────────────────────────┤\n",
       "│ DGP_Base.layers_red[0].q_sqrt                                         │ Parameter │ FillTriangular   │         │ False       │ (2, 6, 6)   │ float64 │ [[[1.00000050e-05, 0.00000000e+00, 0.00000000e+00... │\n",
       "├───────────────────────────────────────────────────────────────────────┼───────────┼──────────────────┼─────────┼─────────────┼─────────────┼─────────┼──────────────────────────────────────────────────────┤\n",
       "│ DGP_Base.layers_red[0].feature.Z                                      │ Parameter │ Identity         │         │ True        │ (6, 4)      │ float64 │ [[0.99615292, 0.65436687, 0.23974502...              │\n",
       "├───────────────────────────────────────────────────────────────────────┼───────────┼──────────────────┼─────────┼─────────────┼─────────────┼─────────┼──────────────────────────────────────────────────────┤\n",
       "│ DGP_Base.layers_red[0].kern.variance                                  │ Parameter │ Softplus         │         │ True        │ ()          │ float64 │ 0.3176190065480702                                   │\n",
       "├───────────────────────────────────────────────────────────────────────┼───────────┼──────────────────┼─────────┼─────────────┼─────────────┼─────────┼──────────────────────────────────────────────────────┤\n",
       "│ DGP_Base.layers_red[0].kern.lengthscales                              │ Parameter │ Softplus         │         │ True        │ (4,)        │ float64 │ [1.3088477, 0.94375108, 2.66524588...                │\n",
       "├───────────────────────────────────────────────────────────────────────┼───────────┼──────────────────┼─────────┼─────────────┼─────────────┼─────────┼──────────────────────────────────────────────────────┤\n",
       "│ DGP_Base.likelihood.likelihood.variance                               │ Parameter │ Softplus + Shift │         │ False       │ ()          │ float64 │ 0.04055963169131658                                  │\n",
       "├───────────────────────────────────────────────────────────────────────┼───────────┼──────────────────┼─────────┼─────────────┼─────────────┼─────────┼──────────────────────────────────────────────────────┤\n",
       "│ DGP_Base.likelihood_projection.likelihood.variance                    │ Parameter │ Softplus + Shift │         │ False       │ ()          │ float64 │ 8.783178604045685e-05                                │\n",
       "╘═══════════════════════════════════════════════════════════════════════╧═══════════╧══════════════════╧═════════╧═════════════╧═════════════╧═════════╧══════════════════════════════════════════════════════╛"
      ]
     },
     "execution_count": 11,
     "metadata": {},
     "output_type": "execute_result"
    }
   ],
   "source": [
    "model.model"
   ]
  },
  {
   "cell_type": "code",
   "execution_count": null,
   "metadata": {},
   "outputs": [],
   "source": []
  }
 ],
 "metadata": {
  "kernelspec": {
   "display_name": "Python 3",
   "language": "python",
   "name": "python3"
  },
  "language_info": {
   "codemirror_mode": {
    "name": "ipython",
    "version": 3
   },
   "file_extension": ".py",
   "mimetype": "text/x-python",
   "name": "python",
   "nbconvert_exporter": "python",
   "pygments_lexer": "ipython3",
   "version": "3.7.3"
  }
 },
 "nbformat": 4,
 "nbformat_minor": 2
}
