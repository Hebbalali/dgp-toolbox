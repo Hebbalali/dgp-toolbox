{
 "cells": [
  {
   "cell_type": "markdown",
   "metadata": {},
   "source": [
    "# Multi-Objective optimization using MO-DGP"
   ]
  },
  {
   "cell_type": "markdown",
   "metadata": {},
   "source": [
    "### Import packages"
   ]
  },
  {
   "cell_type": "code",
   "execution_count": 1,
   "metadata": {},
   "outputs": [],
   "source": [
    "import numpy as np\n",
    "import tensorflow as tf\n",
    "import matplotlib\n",
    "from matplotlib import pyplot as plt\n",
    "from gpflow.kernels import White, RBF\n",
    "from gpflow.likelihoods import Gaussian\n",
    "from gpflow import set_trainable\n",
    "import pyDOE\n",
    "import time\n",
    "from matplotlib import pyplot as plt\n",
    "np.random.seed(0)\n",
    "tf.random.set_seed(0)\n",
    "from dgp_dace.models.dgp import DGP\n",
    "from dgp_dace.models.MO_DGP import MultiObjDeepGP"
   ]
  },
  {
   "cell_type": "code",
   "execution_count": 18,
   "metadata": {},
   "outputs": [],
   "source": [
    "\n",
    "def normalize(*args):\n",
    "    normalized_data=[]\n",
    "    if len (args)==1:\n",
    "        return (args[0]-args[0].mean(axis=0))/args[0].std(axis=0)\n",
    "    for arg in args:\n",
    "        normalized_data.append((arg-arg.mean(axis=0))/arg.std(axis=0))\n",
    "    return normalized_data\n",
    "\n",
    "def normalize_X(X):\n",
    "    return (X-X.mean(axis=0))/X.std(axis=0), (0-X.mean(axis=0))/X.std(axis=0), (1-X.mean(axis=0))/X.std(axis=0)\n",
    "\n",
    "def normalize_C(X):\n",
    "    return (X-X.mean(axis=0))/X.std(axis=0), (0-X.mean(axis=0))/X.std(axis=0)\n",
    "\n",
    "def denormalize(Xstar_N,X):\n",
    "        return X.std(axis=0)*Xstar_N+X.mean(axis=0)  \n",
    "\n",
    "def denormalize_var(Xstar_N,X):\n",
    "        return X.std(axis=0)**2*Xstar_N"
   ]
  },
  {
   "cell_type": "code",
   "execution_count": 2,
   "metadata": {},
   "outputs": [],
   "source": [
    "from dgp_dace.problems_MO import *"
   ]
  },
  {
   "cell_type": "code",
   "execution_count": 3,
   "metadata": {},
   "outputs": [],
   "source": [
    "from dgp_dace.EHVI import *"
   ]
  },
  {
   "cell_type": "markdown",
   "metadata": {},
   "source": [
    "### Problem definition"
   ]
  },
  {
   "cell_type": "code",
   "execution_count": 4,
   "metadata": {},
   "outputs": [],
   "source": [
    "problem = multi_obj_1D_4()\n",
    "d = problem.dim\n",
    "func = problem.fun\n",
    "bounds = problem.bounds\n",
    "n= 10*d \n"
   ]
  },
  {
   "cell_type": "markdown",
   "metadata": {},
   "source": [
    "DoE initialization and functions evaluations"
   ]
  },
  {
   "cell_type": "code",
   "execution_count": 5,
   "metadata": {},
   "outputs": [],
   "source": [
    "X_ = pyDOE.lhs(d,n,seed=0)\n",
    "Y0_ = np.zeros((X_.shape[0],1))\n",
    "Y1_ = np.zeros((X_.shape[0],1))\n",
    "C_ = np.zeros((X_.shape[0],1))\n",
    "for i in range(X_.shape[0]):\n",
    "    Y0_[i] = func(X_[i])[0]\n",
    "    Y1_[i] = func(X_[i])[1]"
   ]
  },
  {
   "cell_type": "markdown",
   "metadata": {},
   "source": [
    "Normalization and standarization "
   ]
  },
  {
   "cell_type": "code",
   "execution_count": 6,
   "metadata": {},
   "outputs": [
    {
     "name": "stderr",
     "output_type": "stream",
     "text": [
      "/usr/lib/python3/dist-packages/ipykernel_launcher.py:10: RuntimeWarning: invalid value encountered in true_divide\n",
      "  # Remove the CWD from sys.path while we load stuff.\n"
     ]
    }
   ],
   "source": [
    "Xmean = X_.mean(axis=0)\n",
    "X_std = X_.std(axis=0)\n",
    "X = (X_-Xmean)/X_std\n",
    "Y0mean = Y0_.mean(axis=0)\n",
    "Y0std = Y0_.std(axis=0)\n",
    "Y1mean = Y1_.mean(axis=0)\n",
    "Y1std = Y1_.std(axis=0)\n",
    "Cmean = C_.mean(axis=0)\n",
    "Cstd = C_.std(axis=0)\n",
    "C = (C_-Cmean)/Cstd\n",
    "lw_n = (0-Xmean)/X_std\n",
    "up_n = (1-Xmean)/X_std\n",
    "X = (X_-Xmean)/X_std\n",
    "Y0mean = Y0_.mean(axis=0)\n",
    "Y0std = Y0_.std(axis=0)\n",
    "Y1mean = Y1_.mean(axis=0)\n",
    "Y1std = Y1_.std(axis=0)\n",
    "lw_n = (0-Xmean)/X_std\n",
    "up_n = (1-Xmean)/X_std\n",
    "norm_vect_Y=(Y0mean,Y0std,Y1mean,Y1std)\n",
    "Y0=(Y0_-Y0mean)/Y0std\n",
    "Y1=(Y1_-Y1mean)/Y1std\n",
    "Y_=[Y0_,Y1_]\n",
    "Y=[Y0,Y1]\n",
    "X=[X,X]"
   ]
  },
  {
   "cell_type": "markdown",
   "metadata": {},
   "source": [
    "### Determining the approximated Pareto front"
   ]
  },
  {
   "cell_type": "code",
   "execution_count": 7,
   "metadata": {},
   "outputs": [
    {
     "name": "stdout",
     "output_type": "stream",
     "text": [
      "[9, 8, 0, 7, 6]\n",
      "[6, 7, 0, 8, 9]\n"
     ]
    }
   ],
   "source": [
    "ND=NDC(Y,C_)\n",
    "NDT = NDC(Y,C_,obj1_ascending= False)\n",
    "print(ND)\n",
    "print(NDT)"
   ]
  },
  {
   "cell_type": "code",
   "execution_count": 8,
   "metadata": {},
   "outputs": [
    {
     "data": {
      "text/plain": [
       "array([[-1.09257604],\n",
       "       [-0.55158515],\n",
       "       [ 0.15642052],\n",
       "       [ 0.41633646],\n",
       "       [ 2.55661738]])"
      ]
     },
     "execution_count": 8,
     "metadata": {},
     "output_type": "execute_result"
    }
   ],
   "source": [
    "Y[0][ND]"
   ]
  },
  {
   "cell_type": "code",
   "execution_count": 9,
   "metadata": {},
   "outputs": [
    {
     "data": {
      "text/plain": [
       "[<matplotlib.lines.Line2D at 0x7fc760250da0>]"
      ]
     },
     "execution_count": 9,
     "metadata": {},
     "output_type": "execute_result"
    },
    {
     "data": {
      "image/png": "[encoded data removed]",
      "text/plain": [
       "<Figure size 432x288 with 1 Axes>"
      ]
     },
     "metadata": {
      "needs_background": "light"
     },
     "output_type": "display_data"
    }
   ],
   "source": [
    "plt.figure()\n",
    "plt.plot(Y0_,Y1_,'o')\n",
    "plt.plot(Y0_[ND],Y1_[ND],'o',c='red')\n",
    "\n"
   ]
  },
  {
   "cell_type": "markdown",
   "metadata": {},
   "source": [
    "### Computation of the Hypervolume dominated "
   ]
  },
  {
   "cell_type": "code",
   "execution_count": 10,
   "metadata": {},
   "outputs": [
    {
     "data": {
      "text/plain": [
       "(-16.0, -11.0, 6.0, 3.0)"
      ]
     },
     "execution_count": 10,
     "metadata": {},
     "output_type": "execute_result"
    }
   ],
   "source": [
    "bounds"
   ]
  },
  {
   "cell_type": "code",
   "execution_count": 11,
   "metadata": {},
   "outputs": [
    {
     "name": "stdout",
     "output_type": "stream",
     "text": [
      "Hypervolume [array([39.29677484])]\n"
     ]
    }
   ],
   "source": [
    "HV=[HV_calcul(ND,Y_,bounds)]\n",
    "print('Hypervolume', HV)"
   ]
  },
  {
   "cell_type": "markdown",
   "metadata": {},
   "source": [
    "### Creation of MO-DGP"
   ]
  },
  {
   "cell_type": "code",
   "execution_count": 12,
   "metadata": {},
   "outputs": [
    {
     "name": "stdout",
     "output_type": "stream",
     "text": [
      "2\n"
     ]
    }
   ],
   "source": [
    "model = MultiObjDeepGP(X, Y, loop=2)"
   ]
  },
  {
   "cell_type": "markdown",
   "metadata": {},
   "source": [
    "### Optimization of MO-DGP"
   ]
  },
  {
   "cell_type": "code",
   "execution_count": 13,
   "metadata": {},
   "outputs": [
    {
     "name": "stdout",
     "output_type": "stream",
     "text": [
      "Training part 1\n",
      "ELBO: -174413083.25728026\n",
      "Training part 2\n",
      "Training part 3\n"
     ]
    }
   ],
   "source": [
    "model.optimize_nat_adam(lr_adam= 0.01,lr_gamma=0.01,iterations1=200,iterations2=0 ,iterations3=0)"
   ]
  },
  {
   "cell_type": "markdown",
   "metadata": {},
   "source": [
    "### Computation of the EHVI"
   ]
  },
  {
   "cell_type": "code",
   "execution_count": 14,
   "metadata": {},
   "outputs": [],
   "source": [
    "nadir = [float((bounds[2]-Y0mean)/Y0std),float((bounds[3]-Y1mean)/Y1std)]\n",
    "ideal = [float((bounds[0]-Y0mean)/Y0std),float((bounds[1]-Y1mean)/Y1std)]\n",
    "YND = Y_ND(Y,NDT,nadir=nadir,ideal=ideal) ### the values of the non dominated point + the nadir and ideal"
   ]
  },
  {
   "cell_type": "code",
   "execution_count": 15,
   "metadata": {},
   "outputs": [],
   "source": [
    "Xcand = np.array([[0.],[0.5]])"
   ]
  },
  {
   "cell_type": "code",
   "execution_count": 16,
   "metadata": {},
   "outputs": [
    {
     "data": {
      "text/plain": [
       "<tf.Tensor: shape=(2, 1), dtype=float64, numpy=\n",
       "array([[2.57979129],\n",
       "       [2.84414816]])>"
      ]
     },
     "execution_count": 16,
     "metadata": {},
     "output_type": "execute_result"
    }
   ],
   "source": [
    "EHVI(model,Xcand,YND,corr=False,approximation='None',S=10000)"
   ]
  },
  {
   "cell_type": "markdown",
   "metadata": {},
   "source": [
    "### Optimization of the EHVI"
   ]
  },
  {
   "cell_type": "code",
   "execution_count": 24,
   "metadata": {},
   "outputs": [],
   "source": [
    "x_opt = optimize_EHVI(model,YND,method='Adam')"
   ]
  },
  {
   "cell_type": "markdown",
   "metadata": {},
   "source": [
    "### Addition of the point"
   ]
  },
  {
   "cell_type": "code",
   "execution_count": 25,
   "metadata": {},
   "outputs": [],
   "source": [
    "temp= func(denormalize(x_opt,X_))\n",
    "X_=  np.append(X_, denormalize(x_opt,X_) ,axis=0)"
   ]
  },
  {
   "cell_type": "code",
   "execution_count": 26,
   "metadata": {},
   "outputs": [],
   "source": [
    "Y0_ = np.append(Y0_, temp[0] ,axis=0)"
   ]
  },
  {
   "cell_type": "code",
   "execution_count": 27,
   "metadata": {},
   "outputs": [],
   "source": [
    "Y1_ = np.append(Y1_, temp[1] ,axis=0)"
   ]
  }
 ],
 "metadata": {
  "kernelspec": {
   "display_name": "Python 3",
   "language": "python",
   "name": "python3"
  },
  "language_info": {
   "codemirror_mode": {
    "name": "ipython",
    "version": 3
   },
   "file_extension": ".py",
   "mimetype": "text/x-python",
   "name": "python",
   "nbconvert_exporter": "python",
   "pygments_lexer": "ipython3",
   "version": "3.7.3"
  }
 },
 "nbformat": 4,
 "nbformat_minor": 2
}
